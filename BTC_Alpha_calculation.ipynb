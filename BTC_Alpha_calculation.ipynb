{
 "cells": [
  {
   "cell_type": "markdown",
   "metadata": {},
   "source": [
    "## Dropped Index: \n",
    "- Alpha30(要用到fama三因子)\n",
    "- Alpha75(要用到BENCHMARKINDEX)\n",
    "- Alpha143(要用到SELF函数)\n",
    "- Alpha149(要用到BENCHMARKINDEX)\n",
    "- Alpha181(要用到BENCHMARKINDEX)\n",
    "- Alpha182(要用到BENCHMARKINDEX)"
   ]
  },
  {
   "cell_type": "code",
   "execution_count": 1,
   "metadata": {},
   "outputs": [],
   "source": [
    "import numpy as np, pandas as pd, matplotlib.pyplot as plt, math\n",
    "%matplotlib inline"
   ]
  },
  {
   "cell_type": "code",
   "execution_count": 2,
   "metadata": {},
   "outputs": [],
   "source": [
    "BTC_data = pd.read_pickle('BTC_data.pickle')"
   ]
  },
  {
   "cell_type": "code",
   "execution_count": 3,
   "metadata": {},
   "outputs": [
    {
     "data": {
      "text/plain": [
       "Index(['price_close', 'price_high', 'price_low', 'price_open',\n",
       "       'volume_traded'],\n",
       "      dtype='object')"
      ]
     },
     "execution_count": 3,
     "metadata": {},
     "output_type": "execute_result"
    }
   ],
   "source": [
    "BTC_data.columns"
   ]
  },
  {
   "cell_type": "code",
   "execution_count": 4,
   "metadata": {},
   "outputs": [],
   "source": [
    "from BTC_Alpha_func import *"
   ]
  },
  {
   "cell_type": "markdown",
   "metadata": {},
   "source": [
    "### **先罗列具体alpha因子的计算之前，先按照国泰研报中的表15的顺序写好常用的函数**"
   ]
  },
  {
   "cell_type": "code",
   "execution_count": 5,
   "metadata": {},
   "outputs": [],
   "source": [
    "OPEN = BTC_data['price_open'].fillna(method='ffill')\n",
    "HIGH = BTC_data['price_high']\n",
    "LOW = BTC_data['price_low']\n",
    "CLOSE = BTC_data['price_close']\n",
    "VOLUME = BTC_data['volume_traded']\n",
    "VWAP = CLOSE\n",
    "RET = RET(CLOSE)\n",
    "AMOUNT = VOLUME * CLOSE\n",
    "DTM = (OPEN.values <= DELAY(OPEN, 1).values) \\\n",
    "            * MAX(HIGH - OPEN, OPEN - DELAY(OPEN, 1))\n",
    "DBM = (OPEN >= DELAY(OPEN, 1).values) \\\n",
    "            * MAX(OPEN - LOW, OPEN - DELAY(OPEN, 1))\n",
    "TR = MAX(MAX(HIGH-LOW,ABS(HIGH-DELAY(CLOSE,1))),ABS(LOW-DELAY(CLOSE,1)) )\n",
    "HD = HIGH-DELAY(HIGH,1)\n",
    "LD = DELAY(LOW,1)-LOW\n",
    "\n",
    "#OPEN.isnull().values.any()"
   ]
  },
  {
   "cell_type": "code",
   "execution_count": 6,
   "metadata": {},
   "outputs": [
    {
     "name": "stdout",
     "output_type": "stream",
     "text": [
      "Does No.1 variable have NaN values? False\n",
      "\n",
      "Does No.2 variable have NaN values? False\n",
      "\n",
      "Does No.3 variable have NaN values? False\n",
      "\n",
      "Does No.4 variable have NaN values? False\n",
      "\n",
      "Does No.5 variable have NaN values? False\n",
      "\n",
      "Does No.6 variable have NaN values? False\n",
      "\n",
      "Does No.7 variable have NaN values? False\n",
      "\n",
      "Does No.8 variable have NaN values? False\n",
      "\n",
      "Does No.9 variable have NaN values? False\n",
      "\n",
      "Does No.10 variable have NaN values? False\n",
      "\n",
      "Does No.11 variable have NaN values? False\n",
      "\n",
      "Does No.12 variable have NaN values? False\n",
      "\n",
      "Does No.13 variable have NaN values? False\n",
      "\n"
     ]
    }
   ],
   "source": [
    "'''\n",
    "This part was designed to test if there is NaN value in these \n",
    "raw data, the ideal result is all 'False'\n",
    "'''\n",
    "\n",
    "variable_name = [OPEN, HIGH, LOW, CLOSE, VOLUME,\\\n",
    "                 VWAP, RET, AMOUNT, DTM, DBM, TR, HD, LD]\n",
    "index = 0\n",
    "for item in variable_name:\n",
    "    index += 1\n",
    "    print ('Does No.%s variable have NaN values? %s\\n'%(str(index), str(item.isnull().values.any())))\n"
   ]
  },
  {
   "cell_type": "code",
   "execution_count": 7,
   "metadata": {},
   "outputs": [],
   "source": [
    "Alpha1 = -1 * CORR(RANK(DELTA(LOG(VOLUME),1)), RANK((CLOSE-OPEN)/OPEN), 6)"
   ]
  },
  {
   "cell_type": "code",
   "execution_count": 8,
   "metadata": {},
   "outputs": [],
   "source": [
    "##会出现NAN，因为HIGH = LOW, 出现NaN的地方设置为0，因为此时分子分母都为零\n",
    "Alpha2 = (-1 * DELTA((((CLOSE - LOW) - (HIGH - CLOSE)) / (HIGH - LOW)), 1)).fillna(0)"
   ]
  },
  {
   "cell_type": "markdown",
   "metadata": {},
   "source": [
    "### 对于：？较为复杂的表达式，我都先用一些中间变量存储中间运算的结果，以下均采用这一做法，不赘述"
   ]
  },
  {
   "cell_type": "code",
   "execution_count": 9,
   "metadata": {},
   "outputs": [],
   "source": [
    "cache = CLOSE - ((~(CLOSE>DELAY(CLOSE,1)))*MAX(HIGH,DELAY(CLOSE,1)) + (~(CLOSE>DELAY(CLOSE,1)))*MAX(HIGH,DELAY(CLOSE,1)))\n",
    "Alpha3 = SUM((~(CLOSE==DELAY(CLOSE,1)) * cache), 6)"
   ]
  },
  {
   "cell_type": "code",
   "execution_count": 10,
   "metadata": {},
   "outputs": [],
   "source": [
    "#tail计算的是倒数第二个冒号后面的结果\n",
    "tail = (((1 < (VOLUME / MEAN(VOLUME,20))) | \n",
    "  ((VOLUME / MEAN(VOLUME,20)) == 1)) * 1  - ~((VOLUME / MEAN(VOLUME,20)) == 1) * (-1))\n",
    "\n",
    "#med计算的是中间的一个判断句（第1个冒号之后）的结果\n",
    "med = ((SUM(CLOSE, 2) / 2) < ((SUM(CLOSE, 8) / 8) - STD(CLOSE, 8))) * 1 + \\\n",
    "        ~(((SUM(CLOSE, 2) / 2) < ((SUM(CLOSE, 8) / 8) - STD(CLOSE, 8)))) * tail\n",
    "\n",
    "Alpha4 = (((SUM(CLOSE, 8) / 8) + STD(CLOSE, 8)) < (SUM(CLOSE, 2) / 2)) * (-1) + ~(((SUM(CLOSE, 8) / 8) + STD(CLOSE, 8)) < (SUM(CLOSE, 2) / 2)) * med"
   ]
  },
  {
   "cell_type": "code",
   "execution_count": 11,
   "metadata": {},
   "outputs": [],
   "source": [
    "Alpha5 = (-1 * TSMAX(CORR(TSRANK(VOLUME, 5), TSRANK(HIGH, 5), 5), 3))"
   ]
  },
  {
   "cell_type": "code",
   "execution_count": 12,
   "metadata": {},
   "outputs": [],
   "source": [
    "Alpha6 = (RANK(SIGN(DELTA((((OPEN * 0.85) + (HIGH * 0.15))), 4)))* (-1))"
   ]
  },
  {
   "cell_type": "code",
   "execution_count": 13,
   "metadata": {},
   "outputs": [],
   "source": [
    "Alpha7 = ((RANK(MAX((VWAP - CLOSE), 3)) + RANK(MIN((VWAP - CLOSE), 3))) * RANK(DELTA(VOLUME, 3)))"
   ]
  },
  {
   "cell_type": "code",
   "execution_count": 14,
   "metadata": {},
   "outputs": [],
   "source": [
    "Alpha8 = RANK(DELTA(((((HIGH + LOW) / 2) * 0.2) + (VWAP * 0.8)), 4) * -1)"
   ]
  },
  {
   "cell_type": "code",
   "execution_count": 15,
   "metadata": {},
   "outputs": [],
   "source": [
    "Alpha8 = RANK(DELTA(((((HIGH + LOW) / 2) * 0.2) + (VWAP * 0.8)), 4) * -1)"
   ]
  },
  {
   "cell_type": "code",
   "execution_count": 16,
   "metadata": {},
   "outputs": [],
   "source": [
    "Alpha9 = SMA(((HIGH+LOW)/2-(DELAY(HIGH,1)+DELAY(LOW,1))/2)*(HIGH-LOW)/VOLUME,7,2)"
   ]
  },
  {
   "cell_type": "code",
   "execution_count": 17,
   "metadata": {},
   "outputs": [],
   "source": [
    "Alpha10 = RANK(MAX((STD(RET, 20) * (RET < 0) + CLOSE**2 * ~(RET < 0) * CLOSE)**2, 5))"
   ]
  },
  {
   "cell_type": "code",
   "execution_count": 18,
   "metadata": {},
   "outputs": [],
   "source": [
    "Alpha11 = SUM(((CLOSE-LOW)-(HIGH-CLOSE))/(HIGH-LOW)*VOLUME,6)"
   ]
  },
  {
   "cell_type": "code",
   "execution_count": 19,
   "metadata": {},
   "outputs": [],
   "source": [
    "Alpha12 = (RANK((OPEN - (SUM(VWAP, 10) / 10)))) * (-1 * (RANK(ABS((CLOSE - VWAP)))))"
   ]
  },
  {
   "cell_type": "code",
   "execution_count": 20,
   "metadata": {},
   "outputs": [],
   "source": [
    "Alpha13 = (((HIGH * LOW)**0.5) - VWAP)"
   ]
  },
  {
   "cell_type": "code",
   "execution_count": 21,
   "metadata": {},
   "outputs": [],
   "source": [
    "Alpha14 = CLOSE-DELAY(CLOSE,5)"
   ]
  },
  {
   "cell_type": "code",
   "execution_count": 22,
   "metadata": {},
   "outputs": [],
   "source": [
    "Alpha15 = OPEN/DELAY(CLOSE,1)-1"
   ]
  },
  {
   "cell_type": "code",
   "execution_count": 23,
   "metadata": {},
   "outputs": [],
   "source": [
    "Alpha16 = (-1 * TSMAX(RANK(CORR(RANK(VOLUME), RANK(VWAP), 5)), 5))"
   ]
  },
  {
   "cell_type": "code",
   "execution_count": 24,
   "metadata": {},
   "outputs": [],
   "source": [
    "Alpha17 = RANK((VWAP - MAX(VWAP, 15)))**DELTA(CLOSE, 5)"
   ]
  },
  {
   "cell_type": "code",
   "execution_count": 25,
   "metadata": {},
   "outputs": [],
   "source": [
    "Alpha18 = CLOSE/DELAY(CLOSE,5)"
   ]
  },
  {
   "cell_type": "code",
   "execution_count": 26,
   "metadata": {},
   "outputs": [],
   "source": [
    "Alpha19 = (CLOSE-DELAY(CLOSE,5))/DELAY(CLOSE,5) * (CLOSE<DELAY(CLOSE,5)) + \\\n",
    "        ~(CLOSE<DELAY(CLOSE,5)) * (0*(CLOSE==DELAY(CLOSE,5))+ ~(CLOSE==DELAY(CLOSE,5))* (CLOSE-DELAY(CLOSE,5))/CLOSE)"
   ]
  },
  {
   "cell_type": "code",
   "execution_count": 27,
   "metadata": {},
   "outputs": [],
   "source": [
    "Alpha20 = (CLOSE-DELAY(CLOSE,6))/DELAY(CLOSE,6)*100"
   ]
  },
  {
   "cell_type": "code",
   "execution_count": 28,
   "metadata": {},
   "outputs": [],
   "source": [
    "Alpha21 = REGBETA(MEAN(CLOSE,6),SEQUENCE(6),6)"
   ]
  },
  {
   "cell_type": "code",
   "execution_count": 29,
   "metadata": {},
   "outputs": [],
   "source": [
    "'''SMEAN(**arg, arg1, arg2) is not defined, we must figure out its definition first'''\n",
    "Alpha22 = MEAN((CLOSE-MEAN(CLOSE,6))/MEAN(CLOSE,6)-DELAY((CLOSE-MEAN(CLOSE,6))/MEAN(CLOSE,6),3),12)"
   ]
  },
  {
   "cell_type": "code",
   "execution_count": 30,
   "metadata": {},
   "outputs": [],
   "source": [
    "Alpha23 = SMA((CLOSE>DELAY(CLOSE,1))*STD(CLOSE,20),20,1)/\\\n",
    "(SMA((CLOSE>DELAY(CLOSE,1))*STD(CLOSE,20),20,1 )+SMA((CLOSE<=DELAY(CLOSE,1))*STD(CLOSE,20),20,1))*100"
   ]
  },
  {
   "cell_type": "code",
   "execution_count": 31,
   "metadata": {},
   "outputs": [],
   "source": [
    "Alpha24 = SMA(CLOSE-DELAY(CLOSE,5),5,1)"
   ]
  },
  {
   "cell_type": "code",
   "execution_count": 32,
   "metadata": {},
   "outputs": [],
   "source": [
    "Alpha25 = ((-1 * RANK((DELTA(CLOSE, 7) * (1 - RANK(DECAYLINEAR((VOLUME / MEAN(VOLUME,20)), 9)))))) * (1 + RANK(SUM(RET, 250))))"
   ]
  },
  {
   "cell_type": "code",
   "execution_count": 33,
   "metadata": {},
   "outputs": [],
   "source": [
    "Alpha26 = ((((SUM(CLOSE, 7) / 7) - CLOSE)) + ((CORR(VWAP, DELAY(CLOSE, 5), 230))))"
   ]
  },
  {
   "cell_type": "code",
   "execution_count": 34,
   "metadata": {},
   "outputs": [],
   "source": [
    "Alpha27 = WMA((CLOSE-DELAY(CLOSE,3))/DELAY(CLOSE,3)*100+(CLOSE-DELAY(CLOSE,6))/DELAY(CLOSE,6)*100,12)"
   ]
  },
  {
   "cell_type": "code",
   "execution_count": 35,
   "metadata": {},
   "outputs": [],
   "source": [
    "Alpha28 = 3*SMA((CLOSE-TSMIN(LOW,9))/(TSMAX(HIGH,9)-TSMIN(LOW,9))*100,3,1)-2*SMA(SMA((CLOSE-TSMIN(LOW,9))/( MAX(HIGH,9)-TSMAX(LOW,9))*100,3,1),3,1)"
   ]
  },
  {
   "cell_type": "code",
   "execution_count": 36,
   "metadata": {},
   "outputs": [],
   "source": [
    "Alpha29 = (CLOSE-DELAY(CLOSE,6))/DELAY(CLOSE,6)*VOLUME"
   ]
  },
  {
   "cell_type": "code",
   "execution_count": 37,
   "metadata": {},
   "outputs": [],
   "source": [
    "#Alpha30 drop, 因为这里要用到MKT，SMB，HML， thus drop it"
   ]
  },
  {
   "cell_type": "code",
   "execution_count": 38,
   "metadata": {},
   "outputs": [],
   "source": [
    "Alpha31 = (CLOSE-MEAN(CLOSE,12))/MEAN(CLOSE,12)*100"
   ]
  },
  {
   "cell_type": "code",
   "execution_count": 39,
   "metadata": {},
   "outputs": [],
   "source": [
    "Alpha32 = (-1 * SUM(RANK(CORR(RANK(HIGH), RANK(VOLUME), 3)), 3))"
   ]
  },
  {
   "cell_type": "code",
   "execution_count": 40,
   "metadata": {},
   "outputs": [],
   "source": [
    "Alpha33 = ((((-1 * TSMIN(LOW, 5)) + DELAY(TSMIN(LOW, 5), 5)) * RANK(((SUM(RET, 240) - SUM(RET, 20)) / 220))) * TSRANK(VOLUME, 5))"
   ]
  },
  {
   "cell_type": "code",
   "execution_count": 41,
   "metadata": {},
   "outputs": [],
   "source": [
    "Alpha34 = MEAN(CLOSE,12)/CLOSE"
   ]
  },
  {
   "cell_type": "code",
   "execution_count": 42,
   "metadata": {},
   "outputs": [],
   "source": [
    "Alpha35 = (MIN(RANK(DECAYLINEAR(DELTA(OPEN, 1), 15)), RANK(DECAYLINEAR(CORR((VOLUME), ((OPEN * 0.65) + (OPEN *0.35)), 17),7))) * -1)"
   ]
  },
  {
   "cell_type": "code",
   "execution_count": 43,
   "metadata": {},
   "outputs": [],
   "source": [
    "Alpha36 = RANK(SUM(CORR(RANK(VOLUME), RANK(VWAP), 6), 2))"
   ]
  },
  {
   "cell_type": "code",
   "execution_count": 44,
   "metadata": {},
   "outputs": [],
   "source": [
    "Alpha37 = (-1 * RANK(((SUM(OPEN, 5) * SUM(RET, 5)) - DELAY((SUM(OPEN, 5) * SUM(RET, 5)), 10))))"
   ]
  },
  {
   "cell_type": "code",
   "execution_count": 45,
   "metadata": {},
   "outputs": [],
   "source": [
    "Alpha38 = ((SUM(HIGH, 20) / 20) < HIGH) * (-1 * DELTA(HIGH, 2)) + 0 * ~(SUM(HIGH, 20) / 20 < HIGH)"
   ]
  },
  {
   "cell_type": "code",
   "execution_count": 46,
   "metadata": {},
   "outputs": [],
   "source": [
    "Alpha39 = ((RANK(DECAYLINEAR(DELTA((CLOSE), 2),8)) - RANK(DECAYLINEAR(CORR(((VWAP * 0.3) + (OPEN * 0.7)), SUM(MEAN(VOLUME,180), 37), 14), 12))) * -1)"
   ]
  },
  {
   "cell_type": "code",
   "execution_count": 47,
   "metadata": {},
   "outputs": [],
   "source": [
    "Alpha40 = SUM((CLOSE>DELAY(CLOSE,1))*VOLUME+ 0*~(CLOSE>DELAY(CLOSE,1)),26)\\\n",
    "               /SUM(CLOSE<=DELAY(CLOSE,1)*VOLUME+0*~(CLOSE<=DELAY(CLOSE,1)), 26)*100"
   ]
  },
  {
   "cell_type": "code",
   "execution_count": 48,
   "metadata": {},
   "outputs": [],
   "source": [
    "Alpha41 = (RANK(MAX(DELTA((VWAP), 3), 5))* -1)"
   ]
  },
  {
   "cell_type": "code",
   "execution_count": 49,
   "metadata": {},
   "outputs": [],
   "source": [
    "Alpha42 = ((-1 * RANK(STD(HIGH, 10))) * CORR(HIGH, VOLUME, 10))"
   ]
  },
  {
   "cell_type": "code",
   "execution_count": 50,
   "metadata": {},
   "outputs": [],
   "source": [
    "Alpha43 = SUM(VOLUME * (CLOSE>DELAY(CLOSE,1)) + (~(CLOSE>DELAY(CLOSE,1))) * (-VOLUME) * (CLOSE<DELAY(CLOSE,1)),6)"
   ]
  },
  {
   "cell_type": "code",
   "execution_count": 51,
   "metadata": {},
   "outputs": [],
   "source": [
    "Alpha44 = (TSRANK(DECAYLINEAR(CORR(((LOW)), MEAN(VOLUME,10), 7), 6),4) + TSRANK(DECAYLINEAR(DELTA((VWAP), 3), 10), 15))"
   ]
  },
  {
   "cell_type": "code",
   "execution_count": 52,
   "metadata": {},
   "outputs": [],
   "source": [
    "Alpha45 = (RANK(DELTA((((CLOSE * 0.6) + (OPEN *0.4))), 1)) * RANK(CORR(VWAP, MEAN(VOLUME,150), 15)))"
   ]
  },
  {
   "cell_type": "code",
   "execution_count": 53,
   "metadata": {},
   "outputs": [],
   "source": [
    "Alpha46 = (MEAN(CLOSE,3)+MEAN(CLOSE,6)+MEAN(CLOSE,12)+MEAN(CLOSE,24))/(4*CLOSE)"
   ]
  },
  {
   "cell_type": "code",
   "execution_count": 54,
   "metadata": {},
   "outputs": [],
   "source": [
    "Alpha47 = SMA((TSMAX(HIGH,6)-CLOSE)/(TSMAX(HIGH,6)-TSMIN(LOW,6))*100,9,1)"
   ]
  },
  {
   "cell_type": "code",
   "execution_count": 55,
   "metadata": {},
   "outputs": [],
   "source": [
    "Alpha48 = (-1*((RANK(((SIGN((CLOSE - DELAY(CLOSE, 1))) + SIGN((DELAY(CLOSE, 1) - DELAY(CLOSE, 2)))) + SIGN((DELAY(CLOSE, 2) - DELAY(CLOSE, 3)))))) * SUM(VOLUME, 5)) / SUM(VOLUME, 20))"
   ]
  },
  {
   "cell_type": "code",
   "execution_count": 56,
   "metadata": {},
   "outputs": [],
   "source": [
    "'''\n",
    "SUM(((HIGH+LOW)>=(DELAY(HIGH,1)+DELAY(LOW,1))?0:\n",
    "\n",
    "MAX(ABS(HIGH-DELAY(HIGH,1)),ABS(LOW-DELAY(LOW,1)))),12)/\n",
    "    (SUM(((HIGH+LOW)>=(DELAY(HIGH,1)+DELAY(LOW,1))?0:\n",
    "    \n",
    "MAX(ABS(HIGH-DELAY(HIGH,1)),ABS(LOW-DELAY(LOW,1)))),12)\n",
    "    +SUM(((HIGH+LOW)<=(DELAY(HIGH,1)+DELAY(LOW,1))?0:\n",
    "    \n",
    "MAX(ABS(HIGH - DELAY(HIGH,1)),ABS(LOW-DELAY(LOW,1)))),12))\n",
    "'''\n",
    "\n",
    "\n",
    "tail = SUM(\n",
    "                (\n",
    "                    ((HIGH+LOW)<=(DELAY(HIGH,1)+DELAY(LOW,1))) * 0 + \n",
    "                    ~((HIGH+LOW)<=(DELAY(HIGH,1)+DELAY(LOW,1)))\n",
    "                    *MAX(ABS(HIGH -DELAY(HIGH,1)),ABS(LOW-DELAY(LOW,1)))\n",
    "                )\n",
    "            ,12)\n",
    "\n",
    "\n",
    "dividend = SUM(\n",
    "                    ((HIGH+LOW)>=(DELAY(HIGH,1)+DELAY(LOW,1))) * 0 +\n",
    "                    ~((HIGH+LOW)>=(DELAY(HIGH,1)+DELAY(LOW,1))) * \n",
    "                        MAX(ABS(HIGH-DELAY(HIGH,1)),ABS(LOW-DELAY(LOW,1)))\n",
    "                ,12) + cache\n",
    "\n",
    "\n",
    "\n",
    "divisor = SUM(\n",
    "                ((HIGH+LOW)>=(DELAY(HIGH,1)+DELAY(LOW,1))) * 0\n",
    "                + ~((HIGH+LOW)>=(DELAY(HIGH,1)+DELAY(LOW,1))) *\n",
    "                    MAX(ABS(HIGH-DELAY(HIGH,1)),ABS(LOW-DELAY(LOW,1)))\n",
    "                ,12)\n",
    "\n",
    "Alpha49 = divisor/dividend"
   ]
  },
  {
   "cell_type": "code",
   "execution_count": 57,
   "metadata": {},
   "outputs": [],
   "source": [
    "'''\n",
    "SUM(((HIGH+LOW)<=(DELAY(HIGH,1)+DELAY(LOW,1))?0:\n",
    "\n",
    "MAX(ABS(HIGH-DELAY(HIGH,1)),ABS(LOW-DELAY(LOW,1)))),12)\n",
    "    /(SUM(((HIGH+LOW)<=(DELAY(HIGH,1)+DELAY(LOW,1))?0:\n",
    "    \n",
    "MAX(ABS(HIGH -DELAY(HIGH,1)),ABS(LOW-DELAY(LOW,1)))),12)\n",
    "    +SUM(((HIGH+LOW)>=(DELAY(HIGH,1)+DELAY(LOW,1))?0:\n",
    "    \n",
    "MAX(ABS(HIGH -DELAY(HIGH,1)),ABS(LOW-DELAY(LOW,1)))),12))\n",
    "    \n",
    "----- 到这里 前面这部分的结构是A/B，与上一个index计算方法基本一致 -----   \n",
    "    \n",
    "-\n",
    "\n",
    "SUM(((HIGH+LOW)>=(DELAY(HIGH,1)+DELAY(LOW,1))?0:\n",
    "    \n",
    "MAX(ABS(HIGH-DELAY(HIGH,1)),ABS(LOW-DELAY(LOW,1)))),12)/\n",
    "    (SUM(((HIGH+LOW)>=(DELAY(HIGH,1)+DELAY(LOW,1))?0: \n",
    "    \n",
    "MAX(ABS(HIGH-DELAY(HIGH,1)),ABS(LOW-DELAY(LOW,1)))),12)\n",
    "    +SUM(((HIGH+LOW)<=(DELAY(HIGH,1)+DELAY(LOW,1))?0:\n",
    "\n",
    "MAX(ABS(HIGH-DELAY(HIGH,1)),ABS(LOW-DELAY(LOW,1)))),12))\n",
    "\n",
    "-----减去的这部分就是前一个index，解析式一模一样\n",
    "'''\n",
    "tail = SUM(\n",
    "                (\n",
    "                    ((HIGH+LOW)>=(DELAY(HIGH,1)+DELAY(LOW,1))) * 0 + \n",
    "                    ~((HIGH+LOW)>=(DELAY(HIGH,1)+DELAY(LOW,1)))\n",
    "                    *MAX(ABS(HIGH -DELAY(HIGH,1)),ABS(LOW-DELAY(LOW,1)))\n",
    "                )\n",
    "            ,12)\n",
    "\n",
    "\n",
    "dividend = SUM(\n",
    "                    ((HIGH+LOW)<=(DELAY(HIGH,1)+DELAY(LOW,1))) * 0 +\n",
    "                    ~((HIGH+LOW)<=(DELAY(HIGH,1)+DELAY(LOW,1))) * \n",
    "                        MAX(ABS(HIGH-DELAY(HIGH,1)),ABS(LOW-DELAY(LOW,1)))\n",
    "                ,12) + cache\n",
    "\n",
    "\n",
    "\n",
    "divisor = SUM(\n",
    "                ((HIGH+LOW)<=(DELAY(HIGH,1)+DELAY(LOW,1))) * 0\n",
    "                + ~((HIGH+LOW)<=(DELAY(HIGH,1)+DELAY(LOW,1))) *\n",
    "                    MAX(ABS(HIGH-DELAY(HIGH,1)),ABS(LOW-DELAY(LOW,1)))\n",
    "                ,12)\n",
    "\n",
    "#Alpha50跟Alpha49不独立唉。。不知道为什么要这样设置\n",
    "\n",
    "Alpha50 = divisor/dividend - Alpha49"
   ]
  },
  {
   "cell_type": "code",
   "execution_count": 58,
   "metadata": {},
   "outputs": [],
   "source": [
    "'''Alpha51\n",
    "SUM(((HIGH+LOW)<=(DELAY(HIGH,1)+DELAY(LOW,1))?0:\n",
    "\n",
    "MAX(ABS(HIGH-DELAY(HIGH,1)),ABS(LOW-DELAY(LOW,1)))),12)/\n",
    "    (SUM(((HIGH+LOW)<=(DELAY(HIGH,1)+DELAY(LOW,1))?0:\n",
    "\n",
    "MAX(ABS(HIGH -DELAY(HIGH,1)),ABS(LOW-DELAY(LOW,1)))),12)\n",
    "    +SUM(((HIGH+LOW)>=(DELAY(HIGH,1)+DELAY(LOW,1))?0:\n",
    "\n",
    "MAX(ABS(HIGH -DELAY(HI GH,1)),ABS(LOW-DELAY(LOW,1)))),12))\n",
    "'''\n",
    "Alpha51 = Alpha50 + Alpha49"
   ]
  },
  {
   "cell_type": "code",
   "execution_count": 59,
   "metadata": {},
   "outputs": [],
   "source": [
    "##把表达式中的L替换为LOW\n",
    "Alpha52 = SUM(MAX(0,HIGH-DELAY((HIGH+LOW+CLOSE)/3,1)),26)/SUM(MAX(0,DELAY((HIGH+LOW+CLOSE)/3,1) - LOW),26)* 100"
   ]
  },
  {
   "cell_type": "code",
   "execution_count": 60,
   "metadata": {},
   "outputs": [],
   "source": [
    "Alpha53 = COUNT(CLOSE>DELAY(CLOSE,1),12)/12*100"
   ]
  },
  {
   "cell_type": "code",
   "execution_count": 61,
   "metadata": {},
   "outputs": [],
   "source": [
    "#STD() missing 1 required positional argument: 'n'，姑且设置为’10‘, 与后方一致\n",
    "Alpha54 = (-1 * RANK((STD(ABS(CLOSE - OPEN), 10) + (CLOSE - OPEN)) + CORR(CLOSE, OPEN, 10)))"
   ]
  },
  {
   "cell_type": "code",
   "execution_count": 62,
   "metadata": {},
   "outputs": [],
   "source": [
    "'''讲道理，直接想出这个解析式的真滴是大哥-。-\n",
    "SUM(16*\n",
    "(A)\n",
    "    (CLOSE-DELAY(CLOSE,1)+(CLOSE-OPEN)/2+DELAY(CLOSE,1)-DELAY(OPEN,1))\n",
    "    /\n",
    "(B)\n",
    "    ((ABS(HIGH-DELAY(CLOSE,1))>ABS(LOW-DELAY(CLOSE,1)) &\n",
    "    ABS(HIGH-DELAY(CLOSE,1))>ABS(HIGH-DELAY(LOW,1)) ?   \n",
    "    ABS(HIGH-DELAY(CLOSE,1))+ABS(LOW-DELAY(CLOSE,1))/2\n",
    "    +ABS(DELAY(CLOSE,1)-DELAY(OPEN,1))/4 :   \n",
    "    (ABS(LOW-DELAY(CLOSE,1))>ABS(HIGH-DELAY(LOW,1))    &\n",
    "    ABS(LOW-DELAY(CLOSE,1))>ABS(HIGH-DELAY(CLOSE,1)) ?\n",
    "    ABS(LOW-DELAY(CLOSE,1))+ABS(HIGH-DELAY(CLOSE,1))/2+\n",
    "    ABS(DELAY(CLOSE,1)-DELAY(OPEN,1))/4:    \n",
    "    ABS(HIGH-DELAY(LOW,1))+ABS(DELAY(CLOSE,1)-DELAY(OPEN,1))/4)))    \n",
    "    *\n",
    "(C)    \n",
    "    MAX(ABS(HIGH-DELAY(CLOSE,1)),ABS(LOW-DELAY(CLOSE,1)))   \n",
    ",20)\n",
    "\n",
    "大致结构是SUM(A/B*C, n)，我真滴是很服气唉\n",
    "'''\n",
    "part_C = MAX(ABS(HIGH-DELAY(CLOSE,1)),ABS(LOW-DELAY(CLOSE,1)))\n",
    "\n",
    "part_A = (CLOSE-DELAY(CLOSE,1)+(CLOSE-OPEN)/2+DELAY(CLOSE,1)-DELAY(OPEN,1))\n",
    "\n",
    "part_B1_cond = (ABS(HIGH-DELAY(CLOSE,1))>ABS(LOW-DELAY(CLOSE,1))) & \\\n",
    "    (ABS(HIGH-DELAY(CLOSE,1))>ABS(HIGH-DELAY(LOW,1)))\n",
    "    \n",
    "part_B2_cond = (ABS(LOW-DELAY(CLOSE,1))>ABS(HIGH-DELAY(LOW,1))) & \\\n",
    "    (ABS(LOW-DELAY(CLOSE,1))>ABS(HIGH-DELAY(CLOSE,1)))\n",
    "\n",
    "part_B = part_B1_cond *(ABS(HIGH-DELAY(CLOSE,1))+ABS(LOW-DELAY(CLOSE,1))/2 + ABS(DELAY(CLOSE,1)-DELAY(OPEN,1))/4)\\\n",
    "            + (~part_B1_cond)\\\n",
    "            * (part_B2_cond * (ABS(LOW-DELAY(CLOSE,1))+ABS(HIGH-DELAY(CLOSE,1))/2 + ABS(DELAY(CLOSE,1)-DELAY(OPEN,1))/4)\\\n",
    "            + (~part_B2_cond) * (ABS(HIGH-DELAY(LOW,1))+ABS(DELAY(CLOSE,1)-DELAY(OPEN,1))/4))\n",
    "\n",
    "Alpha55 = SUM(part_A/part_B*part_C, 20)"
   ]
  },
  {
   "cell_type": "code",
   "execution_count": 63,
   "metadata": {},
   "outputs": [],
   "source": [
    "Alpha56 = (RANK((OPEN - TSMIN(OPEN, 12))) < RANK((RANK(CORR(SUM(((HIGH + LOW)/2), 19), SUM(MEAN(VOLUME,40), 19), 13))**5)))"
   ]
  },
  {
   "cell_type": "code",
   "execution_count": 64,
   "metadata": {},
   "outputs": [],
   "source": [
    "Alpha57 = SMA((CLOSE-TSMIN(LOW,9))/(TSMAX(HIGH,9)-TSMIN(LOW,9))*100,3,1)"
   ]
  },
  {
   "cell_type": "code",
   "execution_count": 65,
   "metadata": {},
   "outputs": [],
   "source": [
    "Alpha58 = COUNT(CLOSE>DELAY(CLOSE,1),20)/20*100"
   ]
  },
  {
   "cell_type": "code",
   "execution_count": 66,
   "metadata": {},
   "outputs": [],
   "source": [
    "Alpha59 = SUM((CLOSE==DELAY(CLOSE,1))*0+(CLOSE!=DELAY(CLOSE,1))*CLOSE \\\n",
    "        - ((CLOSE>DELAY(CLOSE,1))*MIN(LOW,DELAY(CLOSE,1)) + ~(CLOSE>DELAY(CLOSE,1)*MAX(HIGH,DELAY(CLOSE,1)))), 20)"
   ]
  },
  {
   "cell_type": "code",
   "execution_count": 67,
   "metadata": {},
   "outputs": [],
   "source": [
    "Alpha60 = SUM(((CLOSE-LOW)-(HIGH-CLOSE))/(HIGH-LOW)*VOLUME,20)"
   ]
  },
  {
   "cell_type": "code",
   "execution_count": 68,
   "metadata": {},
   "outputs": [],
   "source": [
    "Alpha61 = (MAX(RANK(DECAYLINEAR(DELTA(VWAP, 1),12)),RANK(DECAYLINEAR(RANK(CORR((LOW),MEAN(VOLUME,80), 8)), 17))) * -1)"
   ]
  },
  {
   "cell_type": "code",
   "execution_count": 69,
   "metadata": {},
   "outputs": [],
   "source": [
    "Alpha62 = (-1 * CORR(HIGH, RANK(VOLUME), 5))"
   ]
  },
  {
   "cell_type": "code",
   "execution_count": 70,
   "metadata": {},
   "outputs": [],
   "source": [
    "Alpha63 = SMA(MAX(CLOSE-DELAY(CLOSE,1),0),6,1)/SMA(ABS(CLOSE-DELAY(CLOSE,1)),6,1)*100"
   ]
  },
  {
   "cell_type": "code",
   "execution_count": 71,
   "metadata": {},
   "outputs": [],
   "source": [
    "Alpha64 = (MAX(RANK(DECAYLINEAR(CORR(RANK(VWAP), RANK(VOLUME), 4),4)),RANK(DECAYLINEAR(MAX(CORR(RANK(CLOSE), RANK(MEAN(VOLUME,60)), 4), 13), 14))) * -1)"
   ]
  },
  {
   "cell_type": "code",
   "execution_count": 72,
   "metadata": {},
   "outputs": [],
   "source": [
    "Alpha65 = MEAN(CLOSE,6)/CLOSE"
   ]
  },
  {
   "cell_type": "code",
   "execution_count": 73,
   "metadata": {},
   "outputs": [],
   "source": [
    "Alpha66 = (CLOSE-MEAN(CLOSE,6))/MEAN(CLOSE,6)*100"
   ]
  },
  {
   "cell_type": "code",
   "execution_count": 74,
   "metadata": {},
   "outputs": [],
   "source": [
    "Alpha67 = (CLOSE-MEAN(CLOSE,6))/MEAN(CLOSE,6)*100"
   ]
  },
  {
   "cell_type": "code",
   "execution_count": 75,
   "metadata": {},
   "outputs": [],
   "source": [
    "Alpha68 = SMA(((HIGH+LOW)/2-(DELAY(HIGH,1)+DELAY(LOW,1))/2)*(HIGH-LOW)/VOLUME,15,2)"
   ]
  },
  {
   "cell_type": "code",
   "execution_count": 76,
   "metadata": {},
   "outputs": [],
   "source": [
    "Alpha69 = (SUM(DTM,20)>SUM(DBM,20)) * (SUM(DTM,20)-SUM(DBM,20))/SUM(DTM,20) + \\\n",
    "        ~(SUM(DTM,20)>SUM(DBM,20))*((SUM(DTM,20)==SUM(DBM,20))*0 + (SUM(DTM,20)!=SUM(DBM,20))*(SUM(DTM,20)-SUM(DBM,20))/SUM(DBM,20))"
   ]
  },
  {
   "cell_type": "code",
   "execution_count": 77,
   "metadata": {},
   "outputs": [],
   "source": [
    "Alpha70 = STD(AMOUNT,6)"
   ]
  },
  {
   "cell_type": "code",
   "execution_count": 78,
   "metadata": {},
   "outputs": [],
   "source": [
    "Alpha71 = (CLOSE-MEAN(CLOSE,24))/MEAN(CLOSE,24)*100"
   ]
  },
  {
   "cell_type": "code",
   "execution_count": 79,
   "metadata": {},
   "outputs": [],
   "source": [
    "Alpha72 = SMA((TSMAX(HIGH,6)-CLOSE)/(TSMAX(HIGH,6)-TSMIN(LOW,6))*100,15,1)"
   ]
  },
  {
   "cell_type": "code",
   "execution_count": 80,
   "metadata": {},
   "outputs": [],
   "source": [
    "Alpha73 = ((TSRANK(DECAYLINEAR(DECAYLINEAR(CORR((CLOSE), VOLUME,10),16),4),5) -RANK(DECAYLINEAR(CORR(VWAP, MEAN(VOLUME,30), 4),3))) * -1)"
   ]
  },
  {
   "cell_type": "code",
   "execution_count": 81,
   "metadata": {},
   "outputs": [],
   "source": [
    "Alpha74 = (RANK(CORR(SUM(((LOW * 0.35) + (VWAP*0.65)), 20), SUM(MEAN(VOLUME,40),20), 7)) +RANK(CORR(RANK(VWAP), RANK(VOLUME), 6))) "
   ]
  },
  {
   "cell_type": "code",
   "execution_count": 82,
   "metadata": {},
   "outputs": [],
   "source": [
    "#Alpha75 drop, 因为需要用到那个什么BENCHMARK"
   ]
  },
  {
   "cell_type": "code",
   "execution_count": 83,
   "metadata": {},
   "outputs": [],
   "source": [
    "Alpha76 = STD(ABS((CLOSE/DELAY(CLOSE,1)-1))/VOLUME,20)/MEAN(ABS((CLOSE/DELAY(CLOSE,1)-1))/VOLUME,20)"
   ]
  },
  {
   "cell_type": "code",
   "execution_count": 84,
   "metadata": {},
   "outputs": [],
   "source": [
    "Alpha77 = MIN(RANK(DECAYLINEAR(((((HIGH + LOW) / 2) + HIGH) - (VWAP+HIGH)),20)),RANK(DECAYLINEAR(CORR(((HIGH + LOW) / 2), MEAN(VOLUME,40), 3), 6)))"
   ]
  },
  {
   "cell_type": "code",
   "execution_count": 85,
   "metadata": {},
   "outputs": [],
   "source": [
    "\"这里将MA()替换为MEAN()\"\n",
    "Alpha78 = ((HIGH+LOW+CLOSE)/3-MEAN((HIGH+LOW+CLOSE)/3,12))/(0.015*MEAN(ABS(CLOSE-MEAN((HIGH+LOW+CLOSE)/3,12)),12))"
   ]
  },
  {
   "cell_type": "code",
   "execution_count": 86,
   "metadata": {},
   "outputs": [],
   "source": [
    "Alpha79 = SMA(MAX(CLOSE-DELAY(CLOSE,1),0),12,1)/SMA(ABS(CLOSE-DELAY(CLOSE,1)),12,1)*100"
   ]
  },
  {
   "cell_type": "code",
   "execution_count": 87,
   "metadata": {},
   "outputs": [],
   "source": [
    "Alpha80 = (VOLUME-DELAY(VOLUME,5))/DELAY(VOLUME,5)*100"
   ]
  },
  {
   "cell_type": "code",
   "execution_count": 88,
   "metadata": {},
   "outputs": [],
   "source": [
    "Alpha81 = SMA(VOLUME,21,2)"
   ]
  },
  {
   "cell_type": "code",
   "execution_count": 89,
   "metadata": {},
   "outputs": [],
   "source": [
    "Alpha82 = SMA((TSMAX(HIGH,6)-CLOSE)/(TSMAX(HIGH,6)-TSMIN(LOW,6))*100,20,1)"
   ]
  },
  {
   "cell_type": "code",
   "execution_count": 90,
   "metadata": {},
   "outputs": [],
   "source": [
    "Alpha83 = (-1 * RANK(COVIANCE(RANK(HIGH), RANK(VOLUME), 5)))"
   ]
  },
  {
   "cell_type": "code",
   "execution_count": 91,
   "metadata": {},
   "outputs": [],
   "source": [
    "Alpha84 = SUM((CLOSE>DELAY(CLOSE,1)*VOLUME+ \\\n",
    "               ~(CLOSE>DELAY(CLOSE,1))*(-VOLUME)*(CLOSE<DELAY(CLOSE,1))),20)"
   ]
  },
  {
   "cell_type": "code",
   "execution_count": 92,
   "metadata": {},
   "outputs": [],
   "source": [
    "Alpha85 = (TSRANK((VOLUME / MEAN(VOLUME,20)), 20) * TSRANK((-1 * DELTA(CLOSE, 7)), 8))"
   ]
  },
  {
   "cell_type": "code",
   "execution_count": 93,
   "metadata": {},
   "outputs": [],
   "source": [
    "Alpha86 = (0.25 < (((DELAY(CLOSE, 20) - DELAY(CLOSE, 10)) / 10) - ((DELAY(CLOSE, 10) - CLOSE) / 10))) *(-1)\\\n",
    "+ ~(0.25 < (((DELAY(CLOSE, 20) - DELAY(CLOSE, 10)) / 10) - ((DELAY(CLOSE, 10) - CLOSE) / 10)))\\\n",
    "* (((((DELAY(CLOSE, 20) - DELAY(CLOSE, 10)) / 10) - ((DELAY(CLOSE, 10) - CLOSE) / 10)) < 0) * 1\\\n",
    "    + ~((((DELAY(CLOSE, 20) - DELAY(CLOSE, 10)) / 10) - ((DELAY(CLOSE, 10) - CLOSE) / 10)) < 0)\\\n",
    "    *((-1 * 1) * (CLOSE - DELAY(CLOSE, 1))))"
   ]
  },
  {
   "cell_type": "code",
   "execution_count": 94,
   "metadata": {},
   "outputs": [],
   "source": [
    "Alpha87 = ((RANK(DECAYLINEAR(DELTA(VWAP, 4), 7)) + TSRANK(DECAYLINEAR(((((LOW * 0.9) + (LOW * 0.1)) - VWAP) / (OPEN - ((HIGH + LOW) / 2))), 11), 7)) * -1)"
   ]
  },
  {
   "cell_type": "code",
   "execution_count": 95,
   "metadata": {},
   "outputs": [],
   "source": [
    "Alpha88 = (CLOSE-DELAY(CLOSE,20))/DELAY(CLOSE,20)*100"
   ]
  },
  {
   "cell_type": "code",
   "execution_count": 96,
   "metadata": {},
   "outputs": [],
   "source": [
    "Alpha89 = 2*(SMA(CLOSE,13,2)-SMA(CLOSE,27,2)-SMA(SMA(CLOSE,13,2)-SMA(CLOSE,27,2),10,2))"
   ]
  },
  {
   "cell_type": "code",
   "execution_count": 97,
   "metadata": {},
   "outputs": [],
   "source": [
    "Alpha90 = ( RANK(CORR(RANK(VWAP), RANK(VOLUME), 5)) * -1)"
   ]
  },
  {
   "cell_type": "code",
   "execution_count": 98,
   "metadata": {},
   "outputs": [],
   "source": [
    "Alpha91 = ((RANK((CLOSE - MAX(CLOSE, 5)))*RANK(CORR((MEAN(VOLUME,40)), LOW, 5))) * -1)"
   ]
  },
  {
   "cell_type": "code",
   "execution_count": 99,
   "metadata": {},
   "outputs": [],
   "source": [
    "Alpha92 = MAX(RANK(DECAYLINEAR(DELTA(((CLOSE* 0.35)+ (VWAP*0.65)),2),3)),\\\n",
    "              TSRANK(DECAYLINEAR(ABS(CORR((MEAN(VOLUME,180)), CLOSE, 13)), 5), 15)) * -1"
   ]
  },
  {
   "cell_type": "code",
   "execution_count": 100,
   "metadata": {},
   "outputs": [],
   "source": [
    "Alpha93 = SUM((OPEN>=DELAY(OPEN,1)*0+ ~(OPEN>=DELAY(OPEN,1))*MAX((OPEN-LOW),(OPEN-DELAY(OPEN,1)))),20)"
   ]
  },
  {
   "cell_type": "code",
   "execution_count": 101,
   "metadata": {},
   "outputs": [],
   "source": [
    "Alpha94 = SUM((CLOSE>DELAY(CLOSE,1)*VOLUME+ \\\n",
    "               ~(CLOSE>DELAY(CLOSE,1))*(-VOLUME)*(CLOSE<DELAY(CLOSE,1))),30)"
   ]
  },
  {
   "cell_type": "code",
   "execution_count": 102,
   "metadata": {},
   "outputs": [],
   "source": [
    "Alpha95 = STD(AMOUNT,20)"
   ]
  },
  {
   "cell_type": "code",
   "execution_count": 103,
   "metadata": {},
   "outputs": [],
   "source": [
    "Alpha96 = SMA(SMA((CLOSE-TSMIN(LOW,9))/(TSMAX(HIGH,9)-TSMIN(LOW,9))*100,3,1),3,1)"
   ]
  },
  {
   "cell_type": "code",
   "execution_count": 104,
   "metadata": {},
   "outputs": [],
   "source": [
    "Alpha97 = STD(VOLUME,10)"
   ]
  },
  {
   "cell_type": "code",
   "execution_count": 105,
   "metadata": {},
   "outputs": [],
   "source": [
    "condition = (((DELTA((SUM(CLOSE, 100) / 100), 100) / DELAY(CLOSE, 100)) < 0.05) | ((DELTA((SUM(CLOSE, 100) / 100), 100) / DELAY(CLOSE, 100)) == 0.05))\n",
    "\n",
    "Alpha98 = ( condition * (-1 * (CLOSE - TSMIN(CLOSE, 100))) + ~condition * (-1 * DELTA(CLOSE, 3)))"
   ]
  },
  {
   "cell_type": "code",
   "execution_count": 106,
   "metadata": {},
   "outputs": [],
   "source": [
    "Alpha99 = (-1 * RANK(COVIANCE(RANK(CLOSE), RANK(VOLUME), 5)))"
   ]
  },
  {
   "cell_type": "code",
   "execution_count": 107,
   "metadata": {},
   "outputs": [],
   "source": [
    "Alpha100 = STD(VOLUME,20)"
   ]
  },
  {
   "cell_type": "code",
   "execution_count": 108,
   "metadata": {},
   "outputs": [],
   "source": [
    "Alpha101 = ((RANK(CORR(CLOSE, SUM(MEAN(VOLUME,30), 37), 15)) < RANK(CORR(RANK(((HIGH * 0.1) + (VWAP * 0.9))), RANK(VOLUME), 11))) * -1)"
   ]
  },
  {
   "cell_type": "code",
   "execution_count": 109,
   "metadata": {},
   "outputs": [],
   "source": [
    "Alpha102 = SMA(MAX(VOLUME-DELAY(VOLUME,1),0),6,1)/SMA(ABS(VOLUME-DELAY(VOLUME,1)),6,1)*100"
   ]
  },
  {
   "cell_type": "code",
   "execution_count": 110,
   "metadata": {},
   "outputs": [],
   "source": [
    "Alpha103 = ((20-LOWDAY(LOW,20))/20)*100"
   ]
  },
  {
   "cell_type": "code",
   "execution_count": 111,
   "metadata": {},
   "outputs": [],
   "source": [
    "Alpha104 = (-1 * (DELTA(CORR(HIGH, VOLUME, 5), 5) * RANK(STD(CLOSE, 20))))"
   ]
  },
  {
   "cell_type": "code",
   "execution_count": 112,
   "metadata": {},
   "outputs": [],
   "source": [
    "Alpha105 = (-1 * CORR(RANK(OPEN), RANK(VOLUME), 10))"
   ]
  },
  {
   "cell_type": "code",
   "execution_count": 113,
   "metadata": {},
   "outputs": [],
   "source": [
    "Alpha106 = CLOSE-DELAY(CLOSE,20)"
   ]
  },
  {
   "cell_type": "code",
   "execution_count": 114,
   "metadata": {},
   "outputs": [],
   "source": [
    "Alpha107 = (((-1 * RANK((OPEN - DELAY(HIGH, 1)))) * RANK((OPEN - DELAY(CLOSE, 1)))) * RANK((OPEN - DELAY(LOW, 1))))"
   ]
  },
  {
   "cell_type": "code",
   "execution_count": 115,
   "metadata": {},
   "outputs": [],
   "source": [
    "Alpha108 = ((RANK((HIGH - MIN(HIGH, 2)))**RANK(CORR((VWAP), (MEAN(VOLUME,120)), 6))) * -1)"
   ]
  },
  {
   "cell_type": "code",
   "execution_count": 116,
   "metadata": {},
   "outputs": [],
   "source": [
    "Alpha109 = SMA(HIGH-LOW,10,2)/SMA(SMA(HIGH-LOW,10,2),10,2)"
   ]
  },
  {
   "cell_type": "code",
   "execution_count": 117,
   "metadata": {},
   "outputs": [],
   "source": [
    "Alpha110 = SUM(MAX(0,HIGH-DELAY(CLOSE,1)),20)/SUM(MAX(0,DELAY(CLOSE,1)-LOW),20)*100"
   ]
  },
  {
   "cell_type": "code",
   "execution_count": 118,
   "metadata": {},
   "outputs": [],
   "source": [
    "Alpha111 = SMA(VOLUME*((CLOSE-LOW)-(HIGH-CLOSE))/(HIGH-LOW),11,2)\\\n",
    "    -SMA(VOLUME*((CLOSE-LOW)-(HIGH-CLOSE))/(HIGH-LOW),4,2)"
   ]
  },
  {
   "cell_type": "code",
   "execution_count": 119,
   "metadata": {},
   "outputs": [],
   "source": [
    "#这个也是A/B*C的形式\n",
    "Alpha112 = (SUM((CLOSE-DELAY(CLOSE,1)>0) * (CLOSE-DELAY(CLOSE,1)),12)\\\n",
    " -SUM(((CLOSE-DELAY(CLOSE,1)<0) * ABS(CLOSE-DELAY(CLOSE,1))),12))\\\n",
    "/(SUM((CLOSE-DELAY(CLOSE,1)>0) * (CLOSE-DELAY(CLOSE,1)),12)\\\n",
    "  +SUM(((CLOSE-DELAY(CLOSE,1)<0) * ABS(CLOSE-DELAY(CLOSE,1))),12))*100"
   ]
  },
  {
   "cell_type": "code",
   "execution_count": 120,
   "metadata": {},
   "outputs": [],
   "source": [
    "Alpha113 = (-1 * ((RANK((SUM(DELAY(CLOSE, 5), 20) / 20)) * CORR(CLOSE, VOLUME, 2)) * RANK(CORR(SUM(CLOSE, 5), SUM(CLOSE, 20), 2))))"
   ]
  },
  {
   "cell_type": "code",
   "execution_count": 121,
   "metadata": {},
   "outputs": [],
   "source": [
    "Alpha114 = ((RANK(DELAY(((HIGH - LOW) / (SUM(CLOSE, 5) / 5)), 2)) * RANK(RANK(VOLUME))) / (((HIGH - LOW) / (SUM(CLOSE, 5) / 5)) / (VWAP - CLOSE)))"
   ]
  },
  {
   "cell_type": "code",
   "execution_count": 122,
   "metadata": {},
   "outputs": [],
   "source": [
    "Alpha115 = RANK(CORR(((HIGH * 0.9) + (CLOSE * 0.1)), MEAN(VOLUME,30), 10))**RANK(CORR(TSRANK(((HIGH + LOW) / 2), 4), TSRANK(VOLUME, 10), 7))"
   ]
  },
  {
   "cell_type": "code",
   "execution_count": 123,
   "metadata": {},
   "outputs": [],
   "source": [
    "Alpha116 = REGBETA(CLOSE,SEQUENCE(20),20)"
   ]
  },
  {
   "cell_type": "code",
   "execution_count": 124,
   "metadata": {},
   "outputs": [],
   "source": [
    "Alpha117 = ((TSRANK(VOLUME, 32) * (1 - TSRANK(((CLOSE + HIGH) - LOW), 16))) * (1 - TSRANK(RET, 32)))"
   ]
  },
  {
   "cell_type": "code",
   "execution_count": 125,
   "metadata": {},
   "outputs": [],
   "source": [
    "Alpha118 = SUM(HIGH-OPEN,20)/SUM(OPEN-LOW,20)*100"
   ]
  },
  {
   "cell_type": "code",
   "execution_count": 126,
   "metadata": {},
   "outputs": [],
   "source": [
    "Alpha119 = (RANK(DECAYLINEAR(CORR(VWAP, SUM(MEAN(VOLUME,5), 26), 5),7))-RANK(DECAYLINEAR(TSRANK(MIN(CORR(RANK(OPEN), RANK(MEAN(VOLUME,15)), 21), 9), 7), 8)))"
   ]
  },
  {
   "cell_type": "code",
   "execution_count": 127,
   "metadata": {},
   "outputs": [],
   "source": [
    "Alpha120 = (RANK((VWAP - CLOSE)) / RANK((VWAP + CLOSE)))"
   ]
  },
  {
   "cell_type": "code",
   "execution_count": 128,
   "metadata": {},
   "outputs": [],
   "source": [
    "Alpha121 = ((RANK((VWAP - MIN(VWAP, 12)))**TSRANK(CORR(TSRANK(VWAP, 20), TSRANK(MEAN(VOLUME,60), 2), 18), 3)) * -1)"
   ]
  },
  {
   "cell_type": "code",
   "execution_count": 129,
   "metadata": {},
   "outputs": [],
   "source": [
    "Alpha122 = (SMA(SMA(SMA(np.log(CLOSE),13,2),13,2),13,2)-DELAY(SMA(SMA(SMA(np.log(CLOSE),13,2),13,2),13,2),1))/DELAY(SMA(SMA(SMA(np.log(CLOSE),13,2),13,2),13,2),1)"
   ]
  },
  {
   "cell_type": "code",
   "execution_count": 130,
   "metadata": {},
   "outputs": [],
   "source": [
    "Alpha123 = ((RANK(CORR(SUM(((HIGH + LOW) / 2), 20), SUM(MEAN(VOLUME,60), 20), 9)) < RANK(CORR(LOW, VOLUME, 6))) * -1)"
   ]
  },
  {
   "cell_type": "code",
   "execution_count": 131,
   "metadata": {},
   "outputs": [],
   "source": [
    "Alpha124 = (CLOSE - VWAP) / DECAYLINEAR(RANK(TSMAX(CLOSE, 30)),2)"
   ]
  },
  {
   "cell_type": "code",
   "execution_count": 132,
   "metadata": {},
   "outputs": [],
   "source": [
    "Alpha125 = (RANK(DECAYLINEAR(CORR((VWAP), MEAN(VOLUME,80),17), 20)) / RANK(DECAYLINEAR(DELTA(((CLOSE * 0.5) + (VWAP * 0.5)), 3), 16)))"
   ]
  },
  {
   "cell_type": "code",
   "execution_count": 133,
   "metadata": {},
   "outputs": [],
   "source": [
    "Alpha126 = (CLOSE+HIGH+LOW)/3"
   ]
  },
  {
   "cell_type": "code",
   "execution_count": 134,
   "metadata": {},
   "outputs": [],
   "source": [
    "Alpha127 = (MEAN((100*(CLOSE-MAX(CLOSE,12))/(MAX(CLOSE,12))), 12)**2)**(1/2)"
   ]
  },
  {
   "cell_type": "code",
   "execution_count": 135,
   "metadata": {},
   "outputs": [],
   "source": [
    "Alpha128 = 100-(100/(1+SUM(((HIGH+LOW+CLOSE)/3>DELAY((HIGH+LOW+CLOSE)/3,1))*(HIGH+LOW+CLOSE)/3*VOLUME,14)/\n",
    "                     SUM(((HIGH+LOW+CLOSE)/3<DELAY((HIGH+LOW+CLOSE)/3,1)) * (HIGH+LOW+CLOSE)/3*VOLUME, 14)))"
   ]
  },
  {
   "cell_type": "code",
   "execution_count": 136,
   "metadata": {},
   "outputs": [],
   "source": [
    "Alpha129 = SUM((CLOSE-DELAY(CLOSE,1)<0) * ABS(CLOSE-DELAY(CLOSE,1)),12)"
   ]
  },
  {
   "cell_type": "code",
   "execution_count": 137,
   "metadata": {},
   "outputs": [],
   "source": [
    "Alpha130 = (RANK(DECAYLINEAR(CORR(((HIGH + LOW) / 2),MEAN(VOLUME,40),9),10))/RANK(DECAYLINEAR(CORR(RANK(VWAP), RANK(VOLUME), 7),3)))"
   ]
  },
  {
   "cell_type": "code",
   "execution_count": 138,
   "metadata": {},
   "outputs": [],
   "source": [
    "Alpha131 = (RANK(DELAY(VWAP, 1))**TSRANK(CORR(CLOSE,MEAN(VOLUME,50), 18), 18))"
   ]
  },
  {
   "cell_type": "code",
   "execution_count": 139,
   "metadata": {},
   "outputs": [],
   "source": [
    "Alpha132 = MEAN(AMOUNT,20)"
   ]
  },
  {
   "cell_type": "code",
   "execution_count": 140,
   "metadata": {},
   "outputs": [],
   "source": [
    "Alpha133 = ((20-HIGHDAY(HIGH,20))/20)*100-((20-LOWDAY(LOW,20))/20)*100"
   ]
  },
  {
   "cell_type": "code",
   "execution_count": 141,
   "metadata": {},
   "outputs": [],
   "source": [
    "Alpha134 = (CLOSE-DELAY(CLOSE,12))/DELAY(CLOSE,12)*VOLUME"
   ]
  },
  {
   "cell_type": "code",
   "execution_count": 142,
   "metadata": {},
   "outputs": [],
   "source": [
    "Alpha135 = SMA(DELAY(CLOSE/DELAY(CLOSE,20),1),20,1)"
   ]
  },
  {
   "cell_type": "code",
   "execution_count": 143,
   "metadata": {},
   "outputs": [],
   "source": [
    "Alpha136 = ((-1 * RANK(DELTA(RET, 3))) * CORR(OPEN, VOLUME, 10))"
   ]
  },
  {
   "cell_type": "code",
   "execution_count": 144,
   "metadata": {},
   "outputs": [],
   "source": [
    "#这个就是Alpha55把最外面那层sum()去掉\n",
    "part_C = MAX(ABS(HIGH-DELAY(CLOSE,1)),ABS(LOW-DELAY(CLOSE,1)))\n",
    "\n",
    "part_A = (CLOSE-DELAY(CLOSE,1)+(CLOSE-OPEN)/2+DELAY(CLOSE,1)-DELAY(OPEN,1))\n",
    "\n",
    "part_B1_cond = (ABS(HIGH-DELAY(CLOSE,1))>ABS(LOW-DELAY(CLOSE,1))) & \\\n",
    "    (ABS(HIGH-DELAY(CLOSE,1))>ABS(HIGH-DELAY(LOW,1)))\n",
    "    \n",
    "part_B2_cond = (ABS(LOW-DELAY(CLOSE,1))>ABS(HIGH-DELAY(LOW,1))) & \\\n",
    "    (ABS(LOW-DELAY(CLOSE,1))>ABS(HIGH-DELAY(CLOSE,1)))\n",
    "\n",
    "part_B = part_B1_cond *(ABS(HIGH-DELAY(CLOSE,1))+ABS(LOW-DELAY(CLOSE,1))/2 + ABS(DELAY(CLOSE,1)-DELAY(OPEN,1))/4)\\\n",
    "            + (~part_B1_cond)\\\n",
    "            * (part_B2_cond * (ABS(LOW-DELAY(CLOSE,1))+ABS(HIGH-DELAY(CLOSE,1))/2 + ABS(DELAY(CLOSE,1)-DELAY(OPEN,1))/4)\\\n",
    "            + (~part_B2_cond) * (ABS(HIGH-DELAY(LOW,1))+ABS(DELAY(CLOSE,1)-DELAY(OPEN,1))/4))\n",
    "\n",
    "Alpha137 = part_A/part_B*part_C"
   ]
  },
  {
   "cell_type": "code",
   "execution_count": 145,
   "metadata": {},
   "outputs": [],
   "source": [
    "Alpha138 = ((RANK(DECAYLINEAR(DELTA((((LOW * 0.7) + (VWAP *0.3))), 3), 20))-TSRANK(DECAYLINEAR(TSRANK(CORR(TSRANK(LOW, 8), TSRANK(MEAN(VOLUME,60), 17), 5), 19), 16), 7)) * -1)"
   ]
  },
  {
   "cell_type": "code",
   "execution_count": 146,
   "metadata": {},
   "outputs": [],
   "source": [
    "Alpha139 = (-1 * CORR(OPEN, VOLUME, 10))"
   ]
  },
  {
   "cell_type": "code",
   "execution_count": 147,
   "metadata": {},
   "outputs": [],
   "source": [
    "Alpha140 = MIN(RANK(DECAYLINEAR(((RANK(OPEN) + RANK(LOW)) - (RANK(HIGH) + RANK(CLOSE))),8)),TSRANK(DECAYLINEAR(CORR(TSRANK(CLOSE, 8), TSRANK(MEAN(VOLUME,60), 20), 8), 7), 3))"
   ]
  },
  {
   "cell_type": "code",
   "execution_count": 148,
   "metadata": {},
   "outputs": [],
   "source": [
    "Alpha141 = (RANK(CORR(RANK(HIGH), RANK(MEAN(VOLUME,15)), 9))* -1)"
   ]
  },
  {
   "cell_type": "code",
   "execution_count": 149,
   "metadata": {},
   "outputs": [],
   "source": [
    "Alpha142 = (((-1 * RANK(TSRANK(CLOSE, 10))) * RANK(DELTA(DELTA(CLOSE,1), 1))) *RANK(TSRANK((VOLUME/MEAN(VOLUME,20)), 5)))"
   ]
  },
  {
   "cell_type": "code",
   "execution_count": 150,
   "metadata": {},
   "outputs": [],
   "source": [
    "#Alpha143,没有定义SELF函数"
   ]
  },
  {
   "cell_type": "code",
   "execution_count": 151,
   "metadata": {},
   "outputs": [],
   "source": [
    "Alpha144 = SUMIF(ABS(CLOSE/DELAY(CLOSE,1)-1)/AMOUNT,20,CLOSE<DELAY(CLOSE,1))\\\n",
    "            /COUNT(CLOSE<DELAY(CLOSE, 1),20)"
   ]
  },
  {
   "cell_type": "code",
   "execution_count": 152,
   "metadata": {},
   "outputs": [],
   "source": [
    "Alpha145 = (MEAN(VOLUME,9)-MEAN(VOLUME,26))/MEAN(VOLUME,12)*100"
   ]
  },
  {
   "cell_type": "code",
   "execution_count": 153,
   "metadata": {},
   "outputs": [],
   "source": [
    "Alpha146 = MEAN((CLOSE-DELAY(CLOSE,1))/DELAY(CLOSE,1)-SMA((CLOSE-DELAY(CLOSE,1))/DELAY(CLOSE,1),61,2),20)\\\n",
    "*(( CLOSE-DELAY(CLOSE,1))/DELAY(CLOSE,1)-SMA((CLOSE-DELAY(CLOSE,1))/DELAY(CLOSE,1),61,2))/SMA(((CLOSE-DELAY(CLOSE,1))\\\n",
    "/DELAY(CLOSE,1)-((CLOSE-DELAY(CLOSE,1))/DELAY(CLOSE,1)-SMA((CLOSE-DELAY(CLOSE, 1))/DELAY(CLOSE,1),61,2)))**2,61,2);"
   ]
  },
  {
   "cell_type": "code",
   "execution_count": 154,
   "metadata": {},
   "outputs": [],
   "source": [
    "Alpha147 = REGBETA(MEAN(CLOSE,12), SEQUENCE(12), 12)"
   ]
  },
  {
   "cell_type": "code",
   "execution_count": 155,
   "metadata": {},
   "outputs": [],
   "source": [
    "Alpha148 = ((RANK(CORR((OPEN), SUM(MEAN(VOLUME,60), 9), 6)) < RANK((OPEN - TSMIN(OPEN, 14)))) * -1)"
   ]
  },
  {
   "cell_type": "code",
   "execution_count": 156,
   "metadata": {},
   "outputs": [],
   "source": [
    "#Alpha149, BANCHMARKCLOSE没有定义，所以这个index空着"
   ]
  },
  {
   "cell_type": "code",
   "execution_count": 157,
   "metadata": {},
   "outputs": [],
   "source": [
    "Alpha150 = (CLOSE+HIGH+LOW)/3*VOLUME"
   ]
  },
  {
   "cell_type": "code",
   "execution_count": 158,
   "metadata": {},
   "outputs": [],
   "source": [
    "Alpha151 = SMA(CLOSE-DELAY(CLOSE,20),20,1)"
   ]
  },
  {
   "cell_type": "code",
   "execution_count": 159,
   "metadata": {},
   "outputs": [],
   "source": [
    "Alpha152 = SMA(MEAN(DELAY(SMA(DELAY(CLOSE/DELAY(CLOSE,9),1),9,1),1),12)-MEAN(DELAY(SMA(DELAY(CLOSE/DELAY (CLOSE,9),1),9,1),1),26),9,1)"
   ]
  },
  {
   "cell_type": "code",
   "execution_count": 160,
   "metadata": {},
   "outputs": [],
   "source": [
    "Alpha153 = (MEAN(CLOSE,3)+MEAN(CLOSE,6)+MEAN(CLOSE,12)+MEAN(CLOSE,24))/4"
   ]
  },
  {
   "cell_type": "code",
   "execution_count": 161,
   "metadata": {},
   "outputs": [],
   "source": [
    "Alpha154 = (((VWAP - MIN(VWAP, 16))) < (CORR(VWAP, MEAN(VOLUME,180), 18)))"
   ]
  },
  {
   "cell_type": "code",
   "execution_count": 162,
   "metadata": {},
   "outputs": [],
   "source": [
    "Alpha155 = SMA(VOLUME,13,2)-SMA(VOLUME,27,2)-SMA(SMA(VOLUME,13,2)-SMA(VOLUME,27,2),10,2)"
   ]
  },
  {
   "cell_type": "code",
   "execution_count": 163,
   "metadata": {},
   "outputs": [],
   "source": [
    "Alpha156 = (MAX(RANK(DECAYLINEAR(DELTA(VWAP, 5), 3)), RANK(DECAYLINEAR(((DELTA(((OPEN * 0.15) + (LOW *0.85)), 2) / ((OPEN * 0.15) + (LOW * 0.85))) * -1), 3))) * -1)"
   ]
  },
  {
   "cell_type": "code",
   "execution_count": 164,
   "metadata": {},
   "outputs": [],
   "source": [
    "Alpha157 = (MIN(PROD(RANK(RANK(LOG(SUM(TSMIN(RANK(RANK((-1 * RANK(DELTA((CLOSE - 1), 5))))), 2), 1)))), 1), 5) + TSRANK(DELAY((-1 * RET), 6), 5))"
   ]
  },
  {
   "cell_type": "code",
   "execution_count": 165,
   "metadata": {},
   "outputs": [],
   "source": [
    "Alpha158 = ((HIGH-SMA(CLOSE,15,2))-(LOW-SMA(CLOSE,15,2)))/CLOSE"
   ]
  },
  {
   "cell_type": "code",
   "execution_count": 166,
   "metadata": {},
   "outputs": [],
   "source": [
    "Alpha159 = ((CLOSE-SUM(MIN(LOW,DELAY(CLOSE,1)),6))/SUM(MAX(HIGH,DELAY(CLOSE,1))-MIN(LOW,DELAY(CLOSE,1)),6) *12*24+(CLOSE-SUM(MIN(LOW,DELAY(CLOSE,1)),12))/SUM(MAX(HIGH,DELAY(CLOSE,1))-MIN(LOW,DELAY(CLOSE,1)),12)*6*24+(CLOSE-SUM(MIN(LOW,DELAY(CLOSE,1)),24))/SUM(MAX(HIGH,DELAY(CLOSE,1))-MIN(LOW,DELAY(CLOSE,1)),24)*6*24)*100/(6*12+6*24+12*24)"
   ]
  },
  {
   "cell_type": "code",
   "execution_count": 167,
   "metadata": {},
   "outputs": [],
   "source": [
    "Alpha160 = SMA((CLOSE<=DELAY(CLOSE,1))*STD(CLOSE,20),20,1)"
   ]
  },
  {
   "cell_type": "code",
   "execution_count": 168,
   "metadata": {},
   "outputs": [],
   "source": [
    "Alpha161 = MEAN(MAX(MAX((HIGH-LOW),ABS(DELAY(CLOSE,1)-HIGH)),ABS(DELAY(CLOSE,1)-LOW)),12)"
   ]
  },
  {
   "cell_type": "code",
   "execution_count": 169,
   "metadata": {},
   "outputs": [],
   "source": [
    "Alpha162 = (SMA(MAX(CLOSE-DELAY(CLOSE,1),0),12,1)/SMA(ABS(CLOSE-DELAY(CLOSE,1)),12,1)*100-MIN(SMA(MAX(CLOSE-DELAY(CLOSE,1),0),12,1)/SMA(ABS(CLOSE-DELAY(CLOSE,1)),12,1)*100,12))/(MAX(SMA(MAX(CLOSE-DELAY(CLOSE,1),0),12,1)/SMA(ABS(CLOSE-DELAY(CLOSE,1)),12,1)*100,12)-MIN(SMA(MAX(CLOSE-DELAY(CLOSE,1),0),12, 1)/SMA(ABS(CLOSE-DELAY(CLOSE,1)),12,1)*100,12))"
   ]
  },
  {
   "cell_type": "code",
   "execution_count": 170,
   "metadata": {},
   "outputs": [],
   "source": [
    "Alpha163 = RANK(((((-1 * RET) * MEAN(VOLUME,20)) * VWAP) * (HIGH - CLOSE)))"
   ]
  },
  {
   "cell_type": "code",
   "execution_count": 171,
   "metadata": {},
   "outputs": [],
   "source": [
    "Alpha164 = SMA((((CLOSE>DELAY(CLOSE,1))*1/(CLOSE-DELAY(CLOSE,1))+ ~(CLOSE>DELAY(CLOSE,1))*1)\n",
    "        - MIN(((CLOSE>DELAY(CLOSE,1))*1/(CLOSE-DELAY(CLOSE,1))+ ~(CLOSE>DELAY(CLOSE,1))*1),12))/(HIGH-LOW)*100,13,2)"
   ]
  },
  {
   "cell_type": "code",
   "execution_count": 172,
   "metadata": {},
   "outputs": [],
   "source": [
    "'''SUMAC(A,n)没有给窗口n，故此设为48，但是max和min好像也只传入了一个series，所以我把max和min都删掉了。。。'''\n",
    "Alpha165 = SUMAC(CLOSE-MEAN(CLOSE,48),48)- SUMAC(CLOSE-MEAN(CLOSE,48),48)/STD(CLOSE,48)"
   ]
  },
  {
   "cell_type": "code",
   "execution_count": 173,
   "metadata": {},
   "outputs": [],
   "source": [
    "Alpha166 = -20*((20-1)**1.5)*SUM((CLOSE/DELAY(CLOSE,1)-MEAN(CLOSE/DELAY(CLOSE,1)-1,20)),20) \\\n",
    "            /((20-1)*(20-2)*((SUM((CLOSE/DELAY(CLOSE,1))**2,20))**1.5))"
   ]
  },
  {
   "cell_type": "code",
   "execution_count": 174,
   "metadata": {},
   "outputs": [],
   "source": [
    "Alpha167 = SUM((CLOSE-DELAY(CLOSE,1)>0)*CLOSE-DELAY(CLOSE,1),12)"
   ]
  },
  {
   "cell_type": "code",
   "execution_count": 175,
   "metadata": {},
   "outputs": [],
   "source": [
    "Alpha168 = (-1*VOLUME/MEAN(VOLUME,20))"
   ]
  },
  {
   "cell_type": "code",
   "execution_count": 176,
   "metadata": {},
   "outputs": [],
   "source": [
    "Alpha169 = SMA(MEAN(DELAY(SMA(CLOSE-DELAY(CLOSE,1),9,1),1),12)-MEAN(DELAY(SMA(CLOSE-DELAY(CLOSE,1),9,1),1), 26),10,1)"
   ]
  },
  {
   "cell_type": "code",
   "execution_count": 177,
   "metadata": {},
   "outputs": [],
   "source": [
    "Alpha170 = ((((RANK((1 / CLOSE)) * VOLUME) / MEAN(VOLUME,20)) * ((HIGH * RANK((HIGH - CLOSE))) / (SUM(HIGH, 5) / 5))) - RANK((VWAP - DELAY(VWAP, 5))))"
   ]
  },
  {
   "cell_type": "code",
   "execution_count": 178,
   "metadata": {},
   "outputs": [],
   "source": [
    "Alpha171 = ((-1 * ((LOW - CLOSE) * (OPEN**5))) / ((CLOSE - HIGH) * (CLOSE**5)))"
   ]
  },
  {
   "cell_type": "code",
   "execution_count": 179,
   "metadata": {},
   "outputs": [],
   "source": [
    "Alpha172 = SMA((CLOSE>DELAY(CLOSE,1))*STD(CLOSE,20),20,1)"
   ]
  },
  {
   "cell_type": "code",
   "execution_count": 180,
   "metadata": {},
   "outputs": [],
   "source": [
    "Alpha173 = 3*SMA(CLOSE,13,2)-2*SMA(SMA(CLOSE,13,2),13,2)+SMA(SMA(SMA(np.log(CLOSE),13,2),13,2),13,2)"
   ]
  },
  {
   "cell_type": "code",
   "execution_count": 181,
   "metadata": {},
   "outputs": [],
   "source": [
    "Alpha174 = SMA((CLOSE>DELAY(CLOSE,1))*STD(CLOSE,20),20,1)"
   ]
  },
  {
   "cell_type": "code",
   "execution_count": 182,
   "metadata": {},
   "outputs": [],
   "source": [
    "Alpha175 = MEAN(MAX(MAX((HIGH-LOW),ABS(DELAY(CLOSE,1)-HIGH)),ABS(DELAY(CLOSE,1)-LOW)),6)"
   ]
  },
  {
   "cell_type": "code",
   "execution_count": 183,
   "metadata": {},
   "outputs": [],
   "source": [
    "Alpha176 = CORR(RANK(((CLOSE - TSMIN(LOW, 12)) / (TSMAX(HIGH, 12) - TSMIN(LOW,12)))), RANK(VOLUME), 6)"
   ]
  },
  {
   "cell_type": "code",
   "execution_count": 184,
   "metadata": {},
   "outputs": [],
   "source": [
    "Alpha177 = ((20-HIGHDAY(HIGH,20))/20)*100"
   ]
  },
  {
   "cell_type": "code",
   "execution_count": 185,
   "metadata": {},
   "outputs": [],
   "source": [
    "Alpha178 = (CLOSE-DELAY(CLOSE,1))/DELAY(CLOSE,1)*VOLUME"
   ]
  },
  {
   "cell_type": "code",
   "execution_count": 186,
   "metadata": {},
   "outputs": [],
   "source": [
    "Alpha179 = (RANK(CORR(VWAP, VOLUME, 4)) *RANK(CORR(RANK(LOW), RANK(MEAN(VOLUME,50)), 12)))"
   ]
  },
  {
   "cell_type": "code",
   "execution_count": 187,
   "metadata": {},
   "outputs": [],
   "source": [
    "Alpha180 = ((MEAN(VOLUME,20) < VOLUME) * ((-1 * TSRANK(ABS(DELTA(CLOSE, 7)), 60)) * SIGN(DELTA(CLOSE, 7))\\\n",
    "            + ~(MEAN(VOLUME,20) < VOLUME) * (-1 * VOLUME)))"
   ]
  },
  {
   "cell_type": "code",
   "execution_count": 188,
   "metadata": {},
   "outputs": [],
   "source": [
    "#Alpha181 drop for the BENCHMARKINDEX"
   ]
  },
  {
   "cell_type": "code",
   "execution_count": 189,
   "metadata": {},
   "outputs": [],
   "source": [
    "#Alpha182 drop for the BENCHMARKINDEX"
   ]
  },
  {
   "cell_type": "code",
   "execution_count": 190,
   "metadata": {},
   "outputs": [],
   "source": [
    "Alpha183 = MAX(SUMAC(CLOSE-MEAN(CLOSE,24),24),24)-MIN(SUMAC(CLOSE-MEAN(CLOSE,24),24),24)/STD(CLOSE,24)"
   ]
  },
  {
   "cell_type": "code",
   "execution_count": 191,
   "metadata": {},
   "outputs": [],
   "source": [
    "Alpha184 = (RANK(CORR(DELAY((OPEN - CLOSE), 1), CLOSE, 200)) + RANK((OPEN - CLOSE)))"
   ]
  },
  {
   "cell_type": "code",
   "execution_count": 192,
   "metadata": {},
   "outputs": [],
   "source": [
    "Alpha185 = RANK((-1 * ((1 - (OPEN / CLOSE))**2)))"
   ]
  },
  {
   "cell_type": "code",
   "execution_count": 193,
   "metadata": {},
   "outputs": [],
   "source": [
    "Alpha186 = (MEAN(ABS(SUM(((LD>0) & (LD>HD))*LD,14)*100/SUM(TR,14)\\\n",
    "                    -SUM(((HD>0) & (HD>LD))*HD,14)*100/SUM(TR,14))\\\n",
    "                   /(SUM(((LD>0) & (LD>HD))*LD,14)*100/SUM(TR,14)\\\n",
    "                    +SUM(((HD>0) & (HD>LD))*HD,14)*100/SUM(TR,14))*100,6)\\\n",
    "     +DELAY(MEAN(ABS(SUM(((LD>0) & (LD>HD))*LD,14)*100/SUM(TR,14)\\\n",
    "                    -SUM(((HD>0) & (HD>LD))*HD,14)*100/SUM(TR,14))\\\n",
    "                   /(SUM(((LD>0) & (LD>HD))*LD,14)*100/SUM(TR,14)\\\n",
    "                    +SUM(((HD>0) & (HD>LD))*HD,14)*100/SUM(TR,14))*100,6),6))/2\n"
   ]
  },
  {
   "cell_type": "code",
   "execution_count": 194,
   "metadata": {},
   "outputs": [],
   "source": [
    "Alpha187 = SUM(~(OPEN<=DELAY(OPEN,1)) * MAX((HIGH-OPEN),(OPEN-DELAY(OPEN,1))),20)"
   ]
  },
  {
   "cell_type": "code",
   "execution_count": 195,
   "metadata": {},
   "outputs": [],
   "source": [
    "Alpha188 = ((HIGH-LOW-SMA(HIGH-LOW,11,2))/SMA(HIGH-LOW,11,2))*100"
   ]
  },
  {
   "cell_type": "code",
   "execution_count": 196,
   "metadata": {},
   "outputs": [],
   "source": [
    "Alpha189 = MEAN(ABS(CLOSE-MEAN(CLOSE,6)),6)"
   ]
  },
  {
   "cell_type": "code",
   "execution_count": 197,
   "metadata": {},
   "outputs": [],
   "source": [
    "Alpha190 = np.log((COUNT((CLOSE/DELAY(CLOSE)-1)>((CLOSE/DELAY(CLOSE,19))**(1/20)-1),20)-1)\\\n",
    "        *SUMIF(((CLOSE/DELAY(CLOSE,1)-(CLOSE/DELAY(CLOSE,19))**(1/20)-1))**2,20,\\\n",
    "                CLOSE/DELAY(CLOSE,1)<((CLOSE/DELAY(CLOSE,19))**(1/20)-1))\\\n",
    "                  \n",
    "        /(\n",
    "            COUNT(CLOSE/DELAY(CLOSE,1)<((CLOSE/DELAY(CLOSE,19))**(1/20)-1),20)\\\n",
    "        *SUMIF(CLOSE/DELAY(CLOSE,1)-((CLOSE/DELAY(CLOSE,19))**(1/20)-1)**2,20,\\\n",
    "                CLOSE/DELAY(CLOSE,1)>((CLOSE/DELAY(CLOSE,19))**(1/20)-1))\\\n",
    "        ))"
   ]
  },
  {
   "cell_type": "code",
   "execution_count": 198,
   "metadata": {},
   "outputs": [],
   "source": [
    "Alpha191 = ((CORR(MEAN(VOLUME,20), LOW, 5) + ((HIGH + LOW) / 2)) - CLOSE)"
   ]
  },
  {
   "cell_type": "code",
   "execution_count": 199,
   "metadata": {},
   "outputs": [
    {
     "name": "stdout",
     "output_type": "stream",
     "text": [
      "DataFrame has infinity values\n"
     ]
    },
    {
     "data": {
      "text/plain": [
       "2018-02-01 00:00:10    1.000000\n",
       "2018-02-01 00:00:20    1.000000\n",
       "2018-02-01 00:00:30    0.986811\n",
       "2018-02-01 00:00:40    0.990591\n",
       "2018-02-01 00:02:40   -0.074268\n",
       "2018-02-01 00:02:50   -0.161386\n",
       "2018-02-01 00:04:30    0.060422\n",
       "2018-02-01 00:04:40   -0.007739\n",
       "2018-02-01 00:04:50   -0.012673\n",
       "2018-02-01 00:05:00    0.237409\n",
       "2018-02-01 00:05:10   -0.678406\n",
       "2018-02-01 00:05:20   -0.799450\n",
       "2018-02-01 00:07:20   -0.325109\n",
       "2018-02-01 00:07:30   -0.390568\n",
       "2018-02-01 00:07:40   -0.280476\n",
       "2018-02-01 00:08:50   -0.451181\n",
       "2018-02-01 00:09:00   -0.468995\n",
       "2018-02-01 00:09:10    0.889148\n",
       "2018-02-01 00:09:20    0.719530\n",
       "2018-02-01 00:09:30   -0.011630\n",
       "2018-02-01 00:09:40    0.376439\n",
       "2018-02-01 00:09:50    0.192933\n",
       "2018-02-01 00:10:00   -0.203718\n",
       "2018-02-01 00:11:50   -0.050300\n",
       "2018-02-01 00:12:00    0.046174\n",
       "2018-02-01 00:12:10   -0.096664\n",
       "2018-02-01 00:12:20   -0.168548\n",
       "2018-02-01 00:13:50   -0.075210\n",
       "2018-02-01 00:14:00   -0.001054\n",
       "2018-02-01 00:14:10    0.434775\n",
       "                         ...   \n",
       "2018-04-14 01:51:10    0.373981\n",
       "2018-04-14 01:51:20    0.276486\n",
       "2018-04-14 01:51:30    0.249021\n",
       "2018-04-14 01:51:40   -0.185664\n",
       "2018-04-14 01:51:50   -0.624326\n",
       "2018-04-14 01:52:00   -0.705560\n",
       "2018-04-14 01:52:10   -0.603571\n",
       "2018-04-14 01:56:40   -0.752183\n",
       "2018-04-14 01:56:50   -0.853506\n",
       "2018-04-14 01:57:00   -0.829109\n",
       "2018-04-14 01:57:20   -0.927852\n",
       "2018-04-14 01:57:30   -0.932540\n",
       "2018-04-14 01:57:40   -0.863099\n",
       "2018-04-14 01:57:50   -0.196252\n",
       "2018-04-14 01:58:00   -0.087492\n",
       "2018-04-14 01:58:10    0.139958\n",
       "2018-04-14 01:58:20    0.243510\n",
       "2018-04-14 02:02:00    0.719496\n",
       "2018-04-14 02:02:10    0.551281\n",
       "2018-04-14 02:02:20   -0.044691\n",
       "2018-04-14 02:02:30   -0.062910\n",
       "2018-04-14 02:02:40   -0.445484\n",
       "2018-04-14 02:02:50   -0.589254\n",
       "2018-04-14 02:03:00   -0.707210\n",
       "2018-04-14 02:03:10   -0.168999\n",
       "2018-04-14 02:03:20   -0.090480\n",
       "2018-04-14 02:03:30    0.159603\n",
       "2018-04-14 02:03:40    0.190848\n",
       "2018-04-14 02:04:00    0.133591\n",
       "2018-04-14 02:04:10    0.122352\n",
       "Length: 195546, dtype: float64"
      ]
     },
     "execution_count": 199,
     "metadata": {},
     "output_type": "execute_result"
    }
   ],
   "source": [
    "process_inf(Alpha1)\n",
    "#process_inf(Alpha1) - Alpha1 "
   ]
  },
  {
   "cell_type": "code",
   "execution_count": 200,
   "metadata": {},
   "outputs": [
    {
     "ename": "SyntaxError",
     "evalue": "invalid character in identifier (<ipython-input-200-01c61de855a6>, line 1)",
     "output_type": "error",
     "traceback": [
      "\u001b[0;36m  File \u001b[0;32m\"<ipython-input-200-01c61de855a6>\"\u001b[0;36m, line \u001b[0;32m1\u001b[0m\n\u001b[0;31m    判断信号好不好的方法是，看未来五分钟的收益率，作为target\u001b[0m\n\u001b[0m                                  ^\u001b[0m\n\u001b[0;31mSyntaxError\u001b[0m\u001b[0;31m:\u001b[0m invalid character in identifier\n"
     ]
    }
   ],
   "source": [
    "判断信号好不好的方法是，看未来五分钟的收益率，作为target\n",
    "用pearson correlation来看每个信号跟收益率相关性有多少\n",
    "\n",
    "设置网格搜索 寻找最优参数\n",
    "\n",
    "设计一个 搜索最优\n",
    "\n",
    "Alpha-index线性组合，求他前面最大的参数\n",
    "\n",
    "搜索，如果搜到了就把新的字符串返回，判断是不是数字，判断这个alpha里面有多少个变量是可以需要修改的\n",
    "\n",
    "\n",
    "eval() 函数，可以自动执行这段字符串 然后得到他的结果"
   ]
  }
 ],
 "metadata": {
  "kernelspec": {
   "display_name": "Python 3",
   "language": "python",
   "name": "python3"
  },
  "language_info": {
   "codemirror_mode": {
    "name": "ipython",
    "version": 3
   },
   "file_extension": ".py",
   "mimetype": "text/x-python",
   "name": "python",
   "nbconvert_exporter": "python",
   "pygments_lexer": "ipython3",
   "version": "3.6.4"
  }
 },
 "nbformat": 4,
 "nbformat_minor": 2
}
