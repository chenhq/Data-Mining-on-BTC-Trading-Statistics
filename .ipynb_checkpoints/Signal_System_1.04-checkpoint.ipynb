{
 "cells": [
  {
   "cell_type": "code",
   "execution_count": 1,
   "metadata": {
    "collapsed": true
   },
   "outputs": [],
   "source": [
    "import numpy as np, pandas as pd, matplotlib.pyplot as plt\n",
    "from scipy.stats.stats import pearsonr\n",
    "from scipy.stats.stats import spearmanr\n",
    "from scipy.optimize import minimize\n",
    "from BTC_Alpha_func import *\n",
    "from tqdm import tqdm\n",
    "import os\n",
    "%matplotlib inline"
   ]
  },
  {
   "cell_type": "code",
   "execution_count": 2,
   "metadata": {
    "collapsed": true
   },
   "outputs": [],
   "source": [
    "class signal_search(object):\n",
    "    \n",
    "    def __init__(self, data, freq, target):\n",
    "        self.init_data = data\n",
    "        self.diff_data = self.differential_diff(data)\n",
    "        self.adjust_freq(freq, target)\n",
    "        self.circle = list(map(lambda x:int(x), list(np.hstack([np.linspace(0,119,120), \n",
    "                            np.linspace(120,180,11), np.linspace(180,720,19)[1:]]))))\n",
    "    \n",
    "    def differential_diff(self, init_price, d = 0.15, method = 'terms', terms_num = 10, thresh = 0.01):\n",
    "        if method == 'thresh':\n",
    "            k = 0\n",
    "            coef = 1\n",
    "            res = 0\n",
    "            while coef < thresh:\n",
    "                res += coef * init_price.shift(k).fillna(0)\n",
    "                k += 1\n",
    "                coef = -coef * (d-k+1)/k\n",
    "        if method == 'terms':\n",
    "            k = 0\n",
    "            coef = 1\n",
    "            res = 0\n",
    "            while k < terms_num:\n",
    "                res += coef * init_price.shift(k).fillna(0)\n",
    "                k += 1\n",
    "                coef = -coef * (d-k+1)/k\n",
    "        return res\n",
    "    \n",
    "    def adjust_freq(self, freq, target):\n",
    "        \n",
    "        self.high = self.init_data['HIGH']\n",
    "        self.low = self.init_data['LOW']\n",
    "        self.close = self.init_data['CLOSE']\n",
    "        self.open = self.init_data['OPEN']\n",
    "        self.volume = self.init_data['VOLUME']\n",
    "        self.vwap = self.init_data['VWAP']\n",
    "        self.amount = self.vwap * self.volume\n",
    "        \n",
    "        self.diff_high = self.diff_data['HIGH']\n",
    "        self.diff_low = self.diff_data['LOW']\n",
    "        self.diff_close = self.diff_data['CLOSE']\n",
    "        self.diff_open = self.diff_data['OPEN']\n",
    "        self.diff_volume = self.diff_data['VOLUME']\n",
    "        self.diff_vwap = self.diff_data['VWAP']\n",
    "        self.diff_amount = self.diff_vwap * self.diff_volume\n",
    "        \n",
    "        self.TARGET = (self.close.shift(-target) / self.close - 1).fillna(0)\n",
    "            \n",
    "    def greedy_optimize_signal(self, alpha_func, initial_values):\n",
    "        from copy import deepcopy\n",
    "        best_pearsonr = 0\n",
    "        for param_num in range(len(initial_values)):\n",
    "            for i in self.circle:\n",
    "                try:\n",
    "                    temp_params = deepcopy(initial_values)\n",
    "                    temp_params[param_num] = i\n",
    "                    temp_signal = alpha_func(temp_params)\n",
    "                    temp_pearsonr = -abs(pearsonr(temp_signal, self.TARGET)[0])\n",
    "                    if temp_pearsonr < best_pearsonr:\n",
    "                        initial_values[param_num] = i\n",
    "                        best_pearsonr = temp_pearsonr\n",
    "                except:\n",
    "                    continue\n",
    "        return initial_values, -abs(pearsonr(alpha_func(initial_values), self.TARGET)[0])\n",
    "                        \n",
    "    def test_signal(self, initial_alpha_func, initial_values, method = 'Greedy'):\n",
    "        \n",
    "        def alpha_func(initial_values):\n",
    "            return initial_alpha_func(initial_values).replace(np.inf, np.nan).replace(-np.inf, np.nan).fillna(0)\n",
    "        \n",
    "        global HIGH, LOW, CLOSE, OPEN, VOLUME, VWAP, RET, AMOUNT, DTM, DBM, TR, HD, LD\n",
    "        \n",
    "        HIGH = self.high\n",
    "        LOW = self.low\n",
    "        CLOSE = self.close\n",
    "        OPEN = self.open\n",
    "        VOLUME = self.volume\n",
    "        VWAP = self.vwap\n",
    "        RET = (CLOSE / CLOSE.shift(1) - 1).fillna(0)\n",
    "        MOUNT = self.amount\n",
    "        DTM = (OPEN <= DELAY(OPEN, 1)) * MAX(HIGH - OPEN, OPEN - DELAY(OPEN, 1))\n",
    "        DBM = (OPEN >= DELAY(OPEN, 1)) * MAX(OPEN - LOW, OPEN - DELAY(OPEN, 1))\n",
    "        TR = MAX(MAX(HIGH-LOW,ABS(HIGH-DELAY(CLOSE,1))),ABS(LOW-DELAY(CLOSE,1)) )\n",
    "        HD = HIGH-DELAY(HIGH,1)\n",
    "        LD = DELAY(LOW,1)-LOW\n",
    "\n",
    "        if method == 'Greedy':\n",
    "            best_normal_params, best_normal_pearsonr = self.greedy_optimize_signal(alpha_func, initial_values)\n",
    "        elif method == 'ParticleSwarm':\n",
    "            best_normal_params, best_normal_pearsonr = self.greedy_optimize_signal(alpha_func, initial_values)\n",
    "        \n",
    "        HIGH = self.diff_high\n",
    "        LOW = self.diff_low\n",
    "        CLOSE = self.diff_close\n",
    "        OPEN = self.diff_open\n",
    "        VOLUME = self.diff_volume\n",
    "        VWAP = self.diff_vwap\n",
    "        RET = (CLOSE / CLOSE.shift(1) - 1).fillna(0)\n",
    "        AMOUNT = self.diff_amount\n",
    "        DTM = (OPEN <= DELAY(OPEN, 1)) * MAX(HIGH - OPEN, OPEN - DELAY(OPEN, 1))\n",
    "        DBM = (OPEN >= DELAY(OPEN, 1)) * MAX(OPEN - LOW, OPEN - DELAY(OPEN, 1))\n",
    "        TR = MAX(MAX(HIGH-LOW,ABS(HIGH-DELAY(CLOSE,1))),ABS(LOW-DELAY(CLOSE,1)) )\n",
    "        HD = HIGH-DELAY(HIGH,1)\n",
    "        LD = DELAY(LOW,1)-LOW  \n",
    "        \n",
    "        Diff_or_Not = 1\n",
    "        \n",
    "        if method == 'Greedy':\n",
    "            best_diff_params, best_diff_pearsonr = self.greedy_optimize_signal(alpha_func, initial_values)\n",
    "        elif method == 'ParticleSwarm':\n",
    "            best_diff_params, best_diff_pearsonr = self.greedy_optimize_signal(alpha_func, initial_values)\n",
    "            \n",
    "        if best_diff_pearsonr < best_normal_pearsonr:\n",
    "            best_params = best_diff_params\n",
    "            best_pearsonr = best_diff_pearsonr\n",
    "        else:\n",
    "            best_params = best_normal_params\n",
    "            best_pearsonr = best_normal_pearsonr\n",
    "            Diff_or_Not = 0\n",
    "            \n",
    "        if not Diff_or_Not:\n",
    "            HIGH = self.high\n",
    "            LOW = self.low\n",
    "            CLOSE = self.close\n",
    "            OPEN = self.open\n",
    "            VOLUME = self.volume\n",
    "            VWAP = self.vwap\n",
    "            RET = (CLOSE / CLOSE.shift(1) - 1).fillna(0)\n",
    "            AMOUNT = self.amount\n",
    "            DTM = (OPEN <= DELAY(OPEN, 1)) * MAX(HIGH - OPEN, OPEN - DELAY(OPEN, 1))\n",
    "            DBM = (OPEN >= DELAY(OPEN, 1)) * MAX(OPEN - LOW, OPEN - DELAY(OPEN, 1))\n",
    "            TR = MAX(MAX(HIGH-LOW,ABS(HIGH-DELAY(CLOSE,1))),ABS(LOW-DELAY(CLOSE,1)) )\n",
    "            HD = HIGH-DELAY(HIGH,1)\n",
    "            LD = DELAY(LOW,1)-LOW\n",
    "            \n",
    "        modify_type, modify_params, best_pearsonr = self.possible_modification(alpha_func, \n",
    "                                                                best_params, best_pearsonr)\n",
    "        return (Diff_or_Not, modify_type, modify_params, best_params, best_pearsonr)\n",
    "            \n",
    "    def possible_modification(self, alpha_func, best_params, best_pearsonr):\n",
    "        modify_type = ''\n",
    "        modify_params = None\n",
    "            \n",
    "        #RANK\n",
    "        signal = RANK(alpha_func(best_params))\n",
    "        rank_pearsonr = -abs(pearsonr(signal, self.TARGET)[0])\n",
    "        if rank_pearsonr < best_pearsonr:\n",
    "            best_pearsonr = rank_pearsonr\n",
    "            modify_type = 'RANK'\n",
    "            modify_params = None\n",
    "            \n",
    "        #DIFF\n",
    "        for d in np.linspace(0.05,1,20):\n",
    "            signal = self.differential_diff(alpha_func(best_params), d = d, \n",
    "                                            method = 'terms', terms_num = 10, thresh = 0.01)\n",
    "            diff_pearsonr = -abs(pearsonr(signal, self.TARGET)[0])\n",
    "            if diff_pearsonr < best_pearsonr:\n",
    "                best_pearsonr = diff_pearsonr\n",
    "                modify_params = d\n",
    "                modify_type = 'DIFF'\n",
    "            else:\n",
    "                break\n",
    "            \n",
    "        #EWMA\n",
    "        if modify_type == 'RANK':\n",
    "            best_signal = RANK(alpha_func(best_params))\n",
    "        elif modify_type == 'DIFF':\n",
    "            best_signal = self.differential_diff(alpha_func(best_params), d = modify_params, \n",
    "                                                 method = 'terms', terms_num = 10, thresh = 0.01)\n",
    "        else:\n",
    "            best_signal = alpha_func(best_params)\n",
    "        \n",
    "        ewma_or_not = 0\n",
    "        best_half_life = 0\n",
    "        for half_life in [1,3,6,12,18,30,60,90,180,360,720]:\n",
    "            signal = best_signal.ewm(halflife = half_life).mean()\n",
    "            ewma_pearsonr = -abs(pearsonr(signal, self.TARGET)[0])\n",
    "            if ewma_pearsonr < best_pearsonr:\n",
    "                best_pearsonr = ewma_pearsonr\n",
    "                ewma_or_not = 1\n",
    "                best_half_life = half_life\n",
    "            else:\n",
    "                break\n",
    "        if ewma_or_not:\n",
    "            modify_type += 'EWMA'\n",
    "            modify_params = (modify_params, best_half_life)\n",
    "                \n",
    "        return modify_type, modify_params, best_pearsonr"
   ]
  },
  {
   "cell_type": "code",
   "execution_count": 21,
   "metadata": {
    "collapsed": true
   },
   "outputs": [],
   "source": [
    "trx = pd.read_pickle('trx_60s.pickle')\n",
    "trx = trx.iloc[:int(2/3*len(trx))]\n",
    "ind = (trx['CLOSE'].shift(-5) / trx['CLOSE'] - 1).fillna(0) != 0\n",
    "trx = trx[ind]"
   ]
  },
  {
   "cell_type": "code",
   "execution_count": 5,
   "metadata": {
    "collapsed": true
   },
   "outputs": [],
   "source": [
    "ss = signal_search(trx, '60S', 5)"
   ]
  },
  {
   "cell_type": "code",
   "execution_count": 6,
   "metadata": {
    "collapsed": true
   },
   "outputs": [],
   "source": [
    "HIGH = ss.high\n",
    "LOW = ss.low\n",
    "CLOSE = ss.close\n",
    "OPEN = ss.open\n",
    "VOLUME = ss.volume\n",
    "VWAP = ss.vwap\n",
    "RET = (CLOSE / CLOSE.shift(1) - 1).fillna(0)\n",
    "AMOUNT = ss.amount\n",
    "DTM = (OPEN <= DELAY(OPEN, 1)) * MAX(HIGH - OPEN, OPEN - DELAY(OPEN, 1))\n",
    "DBM = (OPEN >= DELAY(OPEN, 1)) * MAX(OPEN - LOW, OPEN - DELAY(OPEN, 1))\n",
    "TR = MAX(MAX(HIGH-LOW,ABS(HIGH-DELAY(CLOSE,1))),ABS(LOW-DELAY(CLOSE,1)) )\n",
    "HD = HIGH-DELAY(HIGH,1)\n",
    "LD = DELAY(LOW,1)-LOW"
   ]
  },
  {
   "cell_type": "code",
   "execution_count": 13,
   "metadata": {},
   "outputs": [
    {
     "name": "stderr",
     "output_type": "stream",
     "text": [
      "  0%|          | 0/75 [00:00<?, ?it/s]/Users/yiyangwen/anaconda/lib/python3.6/site-packages/scipy/stats/stats.py:3003: RuntimeWarning: invalid value encountered in double_scalars\n",
      "  r = r_num / r_den\n",
      "  1%|▏         | 1/75 [53:30<65:59:26, 3210.36s/it]"
     ]
    },
    {
     "name": "stdout",
     "output_type": "stream",
     "text": [
      "(1, 'EWMA', (None, 1), array([  2, 210]), -0.06470939124533844)\n"
     ]
    },
    {
     "name": "stderr",
     "output_type": "stream",
     "text": [
      "\r",
      "  3%|▎         | 2/75 [53:38<32:38:01, 1609.34s/it]"
     ]
    },
    {
     "name": "stdout",
     "output_type": "stream",
     "text": [
      "(0, '', None, array([91, 48]), -0.06361573180833538)\n"
     ]
    },
    {
     "name": "stderr",
     "output_type": "stream",
     "text": [
      "  5%|▌         | 4/75 [53:55<15:57:18, 808.99s/it] "
     ]
    },
    {
     "name": "stdout",
     "output_type": "stream",
     "text": [
      "(1, 'EWMA', (None, 1), array([ 0, 21]), -0.175092822096943)\n"
     ]
    },
    {
     "name": "stderr",
     "output_type": "stream",
     "text": [
      " 11%|█         | 8/75 [59:43<8:20:15, 447.99s/it] "
     ]
    },
    {
     "name": "stdout",
     "output_type": "stream",
     "text": [
      "(0, 'RANK', None, array([  1, 144]), -0.04049333937586182)\n"
     ]
    },
    {
     "name": "stderr",
     "output_type": "stream",
     "text": [
      " 15%|█▍        | 11/75 [59:58<5:48:56, 327.14s/it]"
     ]
    },
    {
     "name": "stdout",
     "output_type": "stream",
     "text": [
      "(1, 'DIFF', 0.1, array([  1, 240]), -0.0356440126152501)\n"
     ]
    },
    {
     "name": "stderr",
     "output_type": "stream",
     "text": [
      "\r",
      " 16%|█▌        | 12/75 [1:00:15<5:16:20, 301.28s/it]"
     ]
    },
    {
     "name": "stdout",
     "output_type": "stream",
     "text": [
      "(0, '', None, array([115,  19]), -0.029664463499571428)\n"
     ]
    },
    {
     "name": "stderr",
     "output_type": "stream",
     "text": [
      "\r",
      " 17%|█▋        | 13/75 [1:00:23<4:47:59, 278.70s/it]"
     ]
    },
    {
     "name": "stdout",
     "output_type": "stream",
     "text": [
      "(0, 'DIFF', 0.2, array([24,  1]), -0.10038720579567824)\n"
     ]
    },
    {
     "name": "stderr",
     "output_type": "stream",
     "text": [
      " 21%|██▏       | 16/75 [1:00:37<3:43:33, 227.34s/it]"
     ]
    },
    {
     "name": "stdout",
     "output_type": "stream",
     "text": [
      "(0, 'DIFFEWMA', (0.2, 1), array([ 13, 168]), -0.01809934825145676)\n"
     ]
    },
    {
     "name": "stderr",
     "output_type": "stream",
     "text": [
      "\r",
      " 23%|██▎       | 17/75 [1:12:02<4:05:47, 254.27s/it]"
     ]
    },
    {
     "name": "stdout",
     "output_type": "stream",
     "text": [
      "(0, '', None, array([  2, 300]), -0.03908360665840927)\n"
     ]
    },
    {
     "name": "stderr",
     "output_type": "stream",
     "text": [
      "\r",
      " 24%|██▍       | 18/75 [1:12:06<3:48:20, 240.37s/it]"
     ]
    },
    {
     "name": "stdout",
     "output_type": "stream",
     "text": [
      "(0, 'EWMA', (None, 3), array([  2, 113]), -0.11308384330126983)\n"
     ]
    },
    {
     "name": "stderr",
     "output_type": "stream",
     "text": [
      " 27%|██▋       | 20/75 [1:12:46<3:20:09, 218.35s/it]"
     ]
    },
    {
     "name": "stdout",
     "output_type": "stream",
     "text": [
      "(1, 'RANKEWMA', (None, 6), array([15,  2]), -0.05103743065071632)\n"
     ]
    },
    {
     "name": "stderr",
     "output_type": "stream",
     "text": [
      " 31%|███       | 23/75 [1:13:25<2:45:59, 191.53s/it]"
     ]
    },
    {
     "name": "stdout",
     "output_type": "stream",
     "text": [
      "(1, 'EWMA', (None, 12), array([ 2, 40]), -0.053208918267022884)\n"
     ]
    },
    {
     "name": "stderr",
     "output_type": "stream",
     "text": [
      " 33%|███▎      | 25/75 [1:14:40<2:29:21, 179.23s/it]"
     ]
    },
    {
     "name": "stdout",
     "output_type": "stream",
     "text": [
      "(1, 'EWMA', (None, 1), array([510,  25]), -0.03915829876520116)\n"
     ]
    },
    {
     "name": "stderr",
     "output_type": "stream",
     "text": [
      " 36%|███▌      | 27/75 [1:15:08<2:13:34, 166.97s/it]"
     ]
    },
    {
     "name": "stdout",
     "output_type": "stream",
     "text": [
      "(0, '', None, array([ 46, 540]), nan)\n"
     ]
    },
    {
     "name": "stderr",
     "output_type": "stream",
     "text": [
      "\r",
      " 37%|███▋      | 28/75 [1:15:21<2:06:29, 161.47s/it]"
     ]
    },
    {
     "name": "stdout",
     "output_type": "stream",
     "text": [
      "(0, 'RANKEWMA', (None, 12), array([52, 25]), -0.023794370721590727)\n"
     ]
    },
    {
     "name": "stderr",
     "output_type": "stream",
     "text": [
      " 44%|████▍     | 33/75 [1:15:32<1:36:08, 137.33s/it]"
     ]
    },
    {
     "name": "stdout",
     "output_type": "stream",
     "text": [
      "(0, '', None, array([ 4, 51]), nan)\n"
     ]
    },
    {
     "name": "stderr",
     "output_type": "stream",
     "text": [
      "\r",
      " 45%|████▌     | 34/75 [1:15:35<1:31:09, 133.40s/it]"
     ]
    },
    {
     "name": "stdout",
     "output_type": "stream",
     "text": [
      "(0, 'EWMA', (None, 3), array([0, 0]), -0.015156804500502784)\n"
     ]
    },
    {
     "name": "stderr",
     "output_type": "stream",
     "text": [
      "\r",
      " 47%|████▋     | 35/75 [1:17:49<1:28:56, 133.42s/it]"
     ]
    },
    {
     "name": "stdout",
     "output_type": "stream",
     "text": [
      "(0, '', None, array([87, 46]), nan)\n"
     ]
    },
    {
     "name": "stderr",
     "output_type": "stream",
     "text": [
      " 49%|████▉     | 37/75 [1:18:13<1:20:20, 126.85s/it]"
     ]
    },
    {
     "name": "stdout",
     "output_type": "stream",
     "text": [
      "(1, 'DIFF', 0.9, array([ 1, 93]), -0.07538222223341223)\n"
     ]
    },
    {
     "name": "stderr",
     "output_type": "stream",
     "text": [
      " 55%|█████▍    | 41/75 [1:18:36<1:05:11, 115.04s/it]/Users/yiyangwen/anaconda/lib/python3.6/site-packages/numpy/core/_methods.py:70: RuntimeWarning: invalid value encountered in reduce\n",
      "  ret = umr_sum(arr, axis, dtype, out, keepdims)\n",
      "/Users/yiyangwen/anaconda/lib/python3.6/site-packages/numpy/core/_methods.py:70: RuntimeWarning: overflow encountered in reduce\n",
      "  ret = umr_sum(arr, axis, dtype, out, keepdims)\n",
      "/Users/yiyangwen/anaconda/lib/python3.6/site-packages/scipy/stats/stats.py:3001: RuntimeWarning: invalid value encountered in reduce\n",
      "  r_num = np.add.reduce(xm * ym)\n",
      "/Users/yiyangwen/anaconda/lib/python3.6/site-packages/scipy/stats/stats.py:5600: RuntimeWarning: overflow encountered in multiply\n",
      "  return np.sum(a*a, axis)\n",
      "/Users/yiyangwen/Documents/Bitcoin-Nebula/BTC_Alpha_func.py:215: RuntimeWarning: overflow encountered in double_scalars\n",
      "  A.values[i] = (A.values[i-1]*(n-m) + cache[i-1])/n\n",
      " 56%|█████▌    | 42/75 [1:22:46<1:05:02, 118.25s/it]"
     ]
    },
    {
     "name": "stdout",
     "output_type": "stream",
     "text": [
      "(0, 'DIFF', 0.05, array([23,  1]), -0.16968783152491781)\n"
     ]
    },
    {
     "name": "stderr",
     "output_type": "stream",
     "text": [
      " 60%|██████    | 45/75 [1:22:58<55:18, 110.63s/it]  "
     ]
    },
    {
     "name": "stdout",
     "output_type": "stream",
     "text": [
      "(0, 'RANK', None, array([0, 1]), -0.09055368899177732)\n"
     ]
    },
    {
     "name": "stderr",
     "output_type": "stream",
     "text": [
      " 63%|██████▎   | 47/75 [1:23:26<49:42, 106.53s/it]"
     ]
    },
    {
     "name": "stdout",
     "output_type": "stream",
     "text": [
      "(0, 'DIFFEWMA', (0.05, 720), array([ 1, 91]), -0.0012546085226994488)\n"
     ]
    },
    {
     "name": "stderr",
     "output_type": "stream",
     "text": [
      " 67%|██████▋   | 50/75 [1:23:43<41:51, 100.47s/it]"
     ]
    },
    {
     "name": "stdout",
     "output_type": "stream",
     "text": [
      "(0, '', None, array([51, 62]), nan)\n"
     ]
    },
    {
     "name": "stderr",
     "output_type": "stream",
     "text": [
      "\r",
      " 68%|██████▊   | 51/75 [1:23:49<39:27, 98.63s/it] "
     ]
    },
    {
     "name": "stdout",
     "output_type": "stream",
     "text": [
      "(0, '', None, array([ 9, 49]), nan)\n"
     ]
    },
    {
     "name": "stderr",
     "output_type": "stream",
     "text": [
      "\r",
      " 69%|██████▉   | 52/75 [1:23:54<37:06, 96.82s/it]"
     ]
    },
    {
     "name": "stdout",
     "output_type": "stream",
     "text": [
      "(1, '', None, array([390, 108]), -0.011222926439544907)\n"
     ]
    },
    {
     "name": "stderr",
     "output_type": "stream",
     "text": [
      " 72%|███████▏  | 54/75 [1:24:25<32:49, 93.80s/it]"
     ]
    },
    {
     "name": "stdout",
     "output_type": "stream",
     "text": [
      "(1, 'RANK', None, array([660,  58]), -0.05717084204750513)\n"
     ]
    },
    {
     "name": "stderr",
     "output_type": "stream",
     "text": [
      "\r",
      " 73%|███████▎  | 55/75 [1:24:28<30:43, 92.16s/it]"
     ]
    },
    {
     "name": "stdout",
     "output_type": "stream",
     "text": [
      "(1, '', None, array([  0, 111]), -0.15417449018218418)\n"
     ]
    },
    {
     "name": "stderr",
     "output_type": "stream",
     "text": [
      "\r",
      " 76%|███████▌  | 57/75 [1:45:25<33:17, 110.98s/it]"
     ]
    },
    {
     "name": "stdout",
     "output_type": "stream",
     "text": [
      "(0, 'EWMA', (None, 180), array([720,   2]), -0.0115631232480707)\n"
     ]
    },
    {
     "name": "stderr",
     "output_type": "stream",
     "text": [
      " 79%|███████▊  | 59/75 [1:45:37<28:38, 107.41s/it]"
     ]
    },
    {
     "name": "stdout",
     "output_type": "stream",
     "text": [
      "(0, 'DIFF', 0.05, array([0, 1]), -0.0916272188976767)\n"
     ]
    },
    {
     "name": "stderr",
     "output_type": "stream",
     "text": [
      "\r",
      " 80%|████████  | 60/75 [1:46:21<26:35, 106.36s/it]"
     ]
    },
    {
     "name": "stdout",
     "output_type": "stream",
     "text": [
      "(0, '', None, array([5, 3]), -0.04025626238965873)\n"
     ]
    },
    {
     "name": "stderr",
     "output_type": "stream",
     "text": [
      "\r",
      " 81%|████████▏ | 61/75 [1:52:02<25:42, 110.20s/it]"
     ]
    },
    {
     "name": "stdout",
     "output_type": "stream",
     "text": [
      "(0, '', None, array([  2, 118]), -0.037830068871929426)\n"
     ]
    },
    {
     "name": "stderr",
     "output_type": "stream",
     "text": [
      "\r",
      " 83%|████████▎ | 62/75 [1:52:06<23:30, 108.49s/it]"
     ]
    },
    {
     "name": "stdout",
     "output_type": "stream",
     "text": [
      "(0, 'EWMA', (None, 3), array([720, 100]), -0.018523804055413644)\n"
     ]
    },
    {
     "name": "stderr",
     "output_type": "stream",
     "text": [
      " 87%|████████▋ | 65/75 [1:52:13<17:15, 103.59s/it]"
     ]
    },
    {
     "name": "stdout",
     "output_type": "stream",
     "text": [
      "(0, '', None, array([ 67, 162]), nan)\n"
     ]
    },
    {
     "name": "stderr",
     "output_type": "stream",
     "text": [
      "\r",
      " 88%|████████▊ | 66/75 [1:52:16<15:18, 102.06s/it]"
     ]
    },
    {
     "name": "stdout",
     "output_type": "stream",
     "text": [
      "(0, '', None, array([67, 77]), nan)\n"
     ]
    },
    {
     "name": "stderr",
     "output_type": "stream",
     "text": [
      "/Users/yiyangwen/anaconda/lib/python3.6/site-packages/scipy/stats/stats.py:3000: RuntimeWarning: invalid value encountered in subtract\n",
      "  xm, ym = x - mx, y - my\n",
      " 89%|████████▉ | 67/75 [1:52:34<13:26, 100.82s/it]"
     ]
    },
    {
     "name": "stdout",
     "output_type": "stream",
     "text": [
      "(0, 'DIFFEWMA', (0.15, 1), array([450, 116]), -0.01228296840002857)\n"
     ]
    },
    {
     "name": "stderr",
     "output_type": "stream",
     "text": [
      "\r",
      " 91%|█████████ | 68/75 [1:53:15<11:39, 99.93s/it] "
     ]
    },
    {
     "name": "stdout",
     "output_type": "stream",
     "text": [
      "(0, '', None, array([330,  48]), -0.03110690062871738)\n"
     ]
    },
    {
     "name": "stderr",
     "output_type": "stream",
     "text": [
      "\r",
      " 92%|█████████▏| 69/75 [1:53:25<09:51, 98.63s/it]"
     ]
    },
    {
     "name": "stdout",
     "output_type": "stream",
     "text": [
      "(0, 'EWMA', (None, 180), array([  0, 118]), -0.0009707692278357907)\n"
     ]
    },
    {
     "name": "stderr",
     "output_type": "stream",
     "text": [
      "\r",
      " 93%|█████████▎| 70/75 [1:54:24<08:10, 98.06s/it]"
     ]
    },
    {
     "name": "stdout",
     "output_type": "stream",
     "text": [
      "(0, 'DIFF', 0.25, array([1, 1]), -0.06441990799755147)\n"
     ]
    },
    {
     "name": "stderr",
     "output_type": "stream",
     "text": [
      "\r",
      " 95%|█████████▍| 71/75 [1:54:32<06:27, 96.79s/it]"
     ]
    },
    {
     "name": "stdout",
     "output_type": "stream",
     "text": [
      "(1, 'DIFF', 0.1, array([26,  1]), -0.052124118082539715)\n"
     ]
    },
    {
     "name": "stderr",
     "output_type": "stream",
     "text": [
      "\r",
      " 96%|█████████▌| 72/75 [1:58:59<04:57, 99.16s/it]"
     ]
    },
    {
     "name": "stdout",
     "output_type": "stream",
     "text": [
      "(0, '', None, array([76, 32]), nan)\n"
     ]
    },
    {
     "name": "stderr",
     "output_type": "stream",
     "text": [
      "\r",
      " 97%|█████████▋| 73/75 [1:59:06<03:15, 97.90s/it]"
     ]
    },
    {
     "name": "stdout",
     "output_type": "stream",
     "text": [
      "(0, 'EWMA', (None, 6), array([150,  41]), -0.014109338629029881)\n"
     ]
    },
    {
     "name": "stderr",
     "output_type": "stream",
     "text": [
      "\r",
      " 99%|█████████▊| 74/75 [1:59:08<01:36, 96.60s/it]"
     ]
    },
    {
     "name": "stdout",
     "output_type": "stream",
     "text": [
      "(0, '', None, array([ 19, 720]), nan)\n"
     ]
    },
    {
     "name": "stderr",
     "output_type": "stream",
     "text": [
      "\r",
      "100%|██████████| 75/75 [1:59:38<00:00, 95.71s/it]"
     ]
    },
    {
     "name": "stdout",
     "output_type": "stream",
     "text": [
      "(0, '', None, array([ 1, 26]), -0.03735889237282471)\n"
     ]
    },
    {
     "name": "stderr",
     "output_type": "stream",
     "text": [
      "\n"
     ]
    }
   ],
   "source": [
    "# res = pd.read_pickle('trx_signals_60s.pickle').to_dict()\n",
    "res = {}\n",
    "for i in tqdm(range(1,192,1)):\n",
    "    if i in [21, 116, 147]:\n",
    "        continue\n",
    "    params_num = Alpha_para_num['Alpha'+str(i)]:\n",
    "    try:\n",
    "        j = 0\n",
    "        while j < 1000:\n",
    "            random_params = np.random.choice(ss.circle, params_num)\n",
    "            random_signal = eval('Alpha'+str(i)+'(np.array([' + str(random_params[0]) + ',' + str(random_params[1]) + ']))')\n",
    "            correlation = pearsonr(random_signal,ss.TARGET)[0]\n",
    "            if correlation != np.nan:\n",
    "                initial_params = random_params\n",
    "                break\n",
    "            else:\n",
    "                j += 1\n",
    "        res['Alpha'+str(i)] = eval(('ss.test_signal(Alpha'+str(i)+',np.array([' + str(initial_params[0]) + ',' \n",
    "                                      + str(initial_params[1]) + ']))'))\n",
    "        print(res['Alpha'+str(i)])\n",
    "        break\n",
    "    except:\n",
    "        continue  \n",
    "    if i % 1 == 0:\n",
    "        pd.Series(res).to_pickle('trx_signals_60s.pickle')"
   ]
  },
  {
   "cell_type": "code",
   "execution_count": 12,
   "metadata": {
    "collapsed": true
   },
   "outputs": [],
   "source": [
    "def Alpha1(para_list):\n",
    "    return -1 * CORR(RANK(DELTA(LOG(VOLUME),para_list[0])), RANK((CLOSE-OPEN)/OPEN), para_list[1])\n",
    "\n",
    "def Alpha2(para_list):\n",
    "    return (-1 * DELTA((((CLOSE - LOW) - (HIGH - CLOSE)) / (HIGH - LOW)), para_list[0])).fillna(0)\n",
    "\n",
    "def Alpha3(para_list):\n",
    "    cache = CLOSE - ((~(CLOSE>DELAY(CLOSE,para_list[0])))*MIN(LOW,DELAY(CLOSE,para_list[0]))\\\n",
    "                   + (~(CLOSE>DELAY(CLOSE,para_list[0])))*MAX(HIGH,DELAY(CLOSE,para_list[0])))\n",
    "    return SUM((~(CLOSE==DELAY(CLOSE,1)) * cache), para_list[1])\n",
    "\n",
    "\n",
    "#这里保留1,是因为我觉得Volume/mean(volume,window_size)还是有明确的概念的\n",
    "def Alpha4(para_list):\n",
    "    #tail计算的是倒数第二个冒号后面的结果\n",
    "    tail = (((VOLUME / MEAN(VOLUME,para_list[0])) <= 1) * 1\\\n",
    "         - ~((VOLUME / MEAN(VOLUME,para_list[0])) <= 1) * (-1))\n",
    "    #med计算的是中间的一个判断句（第1个冒号之后）的结果\n",
    "    med = ((SUM(CLOSE, para_list[1]) / para_list[1]) < ((SUM(CLOSE, para_list[2]) / para_list[2]) - STD(CLOSE, para_list[2]))) * 1\\\n",
    "     +  ~(((SUM(CLOSE, para_list[1]) / para_list[1]) < ((SUM(CLOSE, para_list[2]) / para_list[2]) - STD(CLOSE, para_list[2])))) * tail\n",
    "    \n",
    "    return (((SUM(CLOSE, para_list[2]) / para_list[2]) + STD(CLOSE, para_list[2])) < (SUM(CLOSE, para_list[1]) / para_list[1])) * (-1)\\\n",
    "     +    ~(((SUM(CLOSE, para_list[2]) / para_list[2]) + STD(CLOSE, para_list[2])) < (SUM(CLOSE, para_list[1]) / para_list[1])) * med\n",
    "\n",
    "\n",
    "def Alpha5(para_list):\n",
    "    return (-1 * TSMAX(CORR(TSRANK(VOLUME, para_list[0]), TSRANK(HIGH, para_list[0]), para_list[0]), para_list[1]))\n",
    "\n",
    "\n",
    "#here para_list[0] is a float between(0,1)\n",
    "def Alpha6(para_list):\n",
    "    return (RANK(SIGN(DELTA((((OPEN * para_list[0]/100) + (HIGH * (1.0-para_list[0]/100)))), para_list[1])))* (-1))\n",
    "\n",
    "\n",
    "def Alpha7(para_list):\n",
    "    return ((RANK(MAX((VWAP - CLOSE), para_list[0])) + RANK(MIN((VWAP - CLOSE), para_list[0]))) * RANK(DELTA(VOLUME, para_list[0])))\n",
    "\n",
    "\n",
    "#here para_list[0] is a float between(0,1)\n",
    "def Alpha8(para_list):\n",
    "    return RANK(DELTA(((((HIGH + LOW) / 2) * para_list[0]/100) + (VWAP * (1.0-para_list[0]/100))), para_list[1]) * -1)\n",
    "\n",
    "#所有的SMA我都加上了assert，我其实在函数里也已经加上了assert，以下不赘述\n",
    "def Alpha9(para_list):\n",
    "#    assert para_list[2] <= para_list[1]\n",
    "    return SMA(((HIGH+LOW)/2-(DELAY(HIGH,para_list[0])+DELAY(LOW,para_list[0]))/2)*(HIGH-LOW)/VOLUME,para_list[1],para_list[2])\n",
    "\n",
    "\n",
    "#para_list[2] 原来就是平方的，这里先改成了para_list[2]\n",
    "def Alpha10(para_list):\n",
    "    return RANK(MAX((STD(RET, para_list[0]) * (RET < 0) + (CLOSE * (~(RET < 0)))**(para_list[2]/100), para_list[1])))\n",
    "\n",
    "def Alpha11(para_list):\n",
    "    return SUM(((CLOSE-LOW)-(HIGH-CLOSE))/(HIGH-LOW)*VOLUME, para_list[0])\n",
    "\n",
    "def Alpha12(para_list):\n",
    "    return (RANK((OPEN - (SUM(VWAP, para_list[0]) / para_list[0])))) * (-1 * (RANK(ABS((CLOSE - VWAP)))))\n",
    "\n",
    "#para_list[0]原来就是开方的，这里也先改了\n",
    "def Alpha13(para_list):\n",
    "    return (((HIGH * LOW)**(para_list[0]/100)) - VWAP) #这个是取调和平均的 我们就算他不用优化把= =\n",
    "\n",
    "\n",
    "def Alpha14(para_list):\n",
    "    return CLOSE-DELAY(CLOSE, para_list[0])\n",
    "\n",
    "#这里的1.0保留\n",
    "def Alpha15(para_list):\n",
    "    return OPEN/DELAY(CLOSE,para_list[0])-1.0\n",
    "\n",
    "def Alpha16(para_list):\n",
    "    return (-1 * TSMAX(RANK(CORR(RANK(VOLUME), RANK(VWAP), para_list[0])), para_list[0]))\n",
    "\n",
    "def Alpha17(para_list):\n",
    "    return RANK((VWAP - MAX(VWAP, para_list[0])))**(DELTA(CLOSE, para_list[1]))\n",
    "\n",
    "def Alpha18(para_list):\n",
    "    return CLOSE/DELAY(CLOSE,para_list[0])\n",
    "\n",
    "def Alpha19(para_list):\n",
    "    return (CLOSE <= DELAY(CLOSE,para_list[0])) * (CLOSE - DELAY(CLOSE,para_list[0]))/DELAY(CLOSE,para_list[0])\\\n",
    "      +    (CLOSE >  DELAY(CLOSE,para_list[0])) * (CLOSE - DELAY(CLOSE,para_list[0])/CLOSE)\n",
    "\n",
    "#100.0保留，表示百分数，以下同\n",
    "def Alpha20(para_list):\n",
    "    return (CLOSE-DELAY(CLOSE,para_list[0]))/DELAY(CLOSE,para_list[0])*100.0\n",
    "\n",
    "def Alpha21(para_list):\n",
    "    return REGBETA(MEAN(CLOSE,para_list[0]),SEQUENCE(para_list[0]),para_list[0]) \n",
    "\n",
    "def Alpha22(para_list):\n",
    "    return MEAN((CLOSE-MEAN(CLOSE,para_list[0]))/MEAN(CLOSE,para_list[0])\\\n",
    "         -DELAY((CLOSE-MEAN(CLOSE,para_list[0]))/MEAN(CLOSE,para_list[0]),para_list[1]),para_list[2])\n",
    "\n",
    "def Alpha23(para_list):\n",
    "    return SMA((CLOSE> DELAY(CLOSE,para_list[0]))*STD(CLOSE,para_list[1]),para_list[1],para_list[2])\\\n",
    "         /(SMA((CLOSE> DELAY(CLOSE,para_list[0]))*STD(CLOSE,para_list[1]),para_list[1],para_list[2])\\\n",
    "          +SMA((CLOSE<=DELAY(CLOSE,para_list[0]))*STD(CLOSE,para_list[1]),para_list[1],para_list[2]))*100.0\n",
    "\n",
    "def Alpha24(para_list):\n",
    "    return SMA(CLOSE-DELAY(CLOSE,para_list[0]),para_list[0],para_list[1])\n",
    "\n",
    "def Alpha25(para_list):\n",
    "    return ((-1 * RANK((DELTA(CLOSE,para_list[0]) * (1 - RANK(DECAYLINEAR((VOLUME / MEAN(VOLUME,para_list[1])), para_list[2]))))))  * (1.0 + RANK(SUM(RET, para_list[3]))))\n",
    "\n",
    "def Alpha26(para_list):\n",
    "    return (((SUM(CLOSE, para_list[0]) / para_list[0]) - CLOSE)) + ((CORR(VWAP, DELAY(CLOSE, para_list[1]), para_list[2])))\n",
    "\n",
    "def Alpha27(para_list):\n",
    "    return WMA((CLOSE-DELAY(CLOSE,para_list[0]))/DELAY(CLOSE,para_list[0])*100.0\\\n",
    "              +(CLOSE-DELAY(CLOSE,para_list[1]))/DELAY(CLOSE,para_list[1])*100.0,para_list[2])\n",
    "\n",
    "#这里的para_list[3]原先设置为9，para_list[4],para_list[5]分别的设置为3和2\n",
    "def Alpha28(para_list):\n",
    "    return para_list[4]*SMA((CLOSE-TSMIN(LOW,para_list[0]))/(TSMAX(HIGH,para_list[0])-TSMIN(LOW,para_list[0]))*100,para_list[1],para_list[2])\\\n",
    "      -para_list[5]*SMA(SMA((CLOSE-TSMIN(LOW,para_list[0]))/(MAX(  HIGH,para_list[3])-TSMAX(LOW,para_list[0]))*100,para_list[1],para_list[2]),para_list[1],para_list[2])\n",
    "\n",
    "\n",
    "def Alpha29(para_list):\n",
    "    return (CLOSE-DELAY(CLOSE,para_list[0]))/DELAY(CLOSE,para_list[0])*VOLUME\n",
    "\n",
    "def Alpha30(para_list):\n",
    "    return CLOSE - CLOSE + 1\n",
    "\n",
    "def Alpha31(para_list):\n",
    "    return (CLOSE-MEAN(CLOSE,para_list[0]))/MEAN(CLOSE,para_list[0])*100.0\n",
    "\n",
    "def Alpha32(para_list):\n",
    "    return (-1 * SUM(RANK(CORR(RANK(HIGH), RANK(VOLUME), para_list[0])), para_list[0]))\n",
    "\n",
    "\n",
    "def Alpha33(para_list):\n",
    "    return ((((-1 * TSMIN(LOW, para_list[0])) + DELAY(TSMIN(LOW, para_list[0]), para_list[0])) * RANK(((SUM(RET, para_list[1]) - SUM(RET, para_list[2])) / (para_list[3]))))* TSRANK(VOLUME, para_list[0]))\n",
    "\n",
    "\n",
    "def Alpha34(para_list):\n",
    "    return MEAN(CLOSE,para_list[0])/CLOSE\n",
    "\n",
    "#here para_list[2] is a float between(0,1)\n",
    "def Alpha35(para_list):\n",
    "    return (-MIN(RANK(DECAYLINEAR(DELTA(OPEN, para_list[0]), para_list[1])),\\\n",
    "                 RANK(DECAYLINEAR(CORR((VOLUME), ((OPEN * para_list[2]/100) + (OPEN *(1-para_list[2]/100))), para_list[3]),para_list[4]))))\n",
    "\n",
    "def Alpha36(para_list):\n",
    "    return RANK(SUM(CORR(RANK(VOLUME), RANK(VWAP), para_list[0]), para_list[1]))\n",
    "\n",
    "def Alpha37(para_list):\n",
    "    return (- RANK(((SUM(OPEN, para_list[0]) * SUM(RET, para_list[0]))\\\n",
    "            - DELAY((SUM(OPEN, para_list[0]) * SUM(RET, para_list[0])), para_list[1]))))\n",
    "\n",
    "def Alpha38(para_list):\n",
    "    return ((SUM(HIGH, para_list[0])/para_list[0]) < HIGH) * (-1.0 * DELTA(HIGH, para_list[1]))\n",
    "\n",
    "def Alpha39(para_list):\n",
    "    return (-(RANK(DECAYLINEAR(DELTA((CLOSE), para_list[0]),para_list[1]))\\\n",
    "             -RANK(DECAYLINEAR(CORR(((VWAP * para_list[2]) + (OPEN * (1-para_list[2]))), SUM(MEAN(VOLUME,para_list[3]), para_list[4]), para_list[5]), para_list[6]))))\n",
    "\n",
    "def Alpha40(para_list):\n",
    "    return SUM((CLOSE > DELAY(CLOSE,para_list[0]))*VOLUME, para_list[1])\\\n",
    "          /SUM((CLOSE<= DELAY(CLOSE,para_list[0]))*VOLUME, para_list[1])*100.0\n",
    "\n",
    "def Alpha41(para_list):\n",
    "    return (RANK(-MAX(DELTA((VWAP), para_list[0]), para_list[1])))\n",
    "\n",
    "def Alpha42(para_list):\n",
    "    return ((-RANK(STD(HIGH, para_list[0]))) * CORR(HIGH, VOLUME, para_list[0]))\n",
    "\n",
    "def Alpha43(para_list):\n",
    "    return SUM(VOLUME * (CLOSE>DELAY(CLOSE,para_list[0]))\\\n",
    "              -VOLUME *(~(CLOSE>DELAY(CLOSE,para_list[0]))) * (CLOSE<DELAY(CLOSE,para_list[0])), para_list[1])\n",
    "\n",
    "def Alpha44(para_list):\n",
    "    return  TSRANK(DECAYLINEAR(CORR(LOW, MEAN(VOLUME,para_list[0]), para_list[1]), para_list[2]), para_list[3])\\\n",
    "          + TSRANK(DECAYLINEAR(DELTA(VWAP, para_list[4]), para_list[5]), para_list[6])\n",
    "\n",
    "def Alpha45(para_list):\n",
    "    return RANK(DELTA(CLOSE * para_list[0] + OPEN * (1-para_list[0]), para_list[1]))\\\n",
    "         * RANK(CORR(VWAP, MEAN(VOLUME, para_list[2]), para_list[3]))\n",
    "\n",
    "#这里4.0也有很明确的概念，就是表示4个window的平均值\n",
    "def Alpha46(para_list):\n",
    "    return (MEAN(CLOSE,para_list[0])\\\n",
    "          + MEAN(CLOSE,para_list[1])\\\n",
    "          + MEAN(CLOSE,para_list[2])\\\n",
    "          + MEAN(CLOSE,para_list[3]))/(4.0*CLOSE)\n",
    "\n",
    "def Alpha47(para_list):\n",
    "    return SMA((TSMAX(HIGH,para_list[0])-CLOSE)/(TSMAX(HIGH,para_list[0]) - TSMIN(LOW,para_list[0]))*100.0, para_list[1], para_list[2])\n",
    "\n",
    "def Alpha48(para_list):\n",
    "    return  (-(RANK(SIGN(CLOSE - DELAY(CLOSE, para_list[0]))\\\n",
    "                  + SIGN(DELAY(CLOSE, para_list[0]) - DELAY(CLOSE, para_list[1]))\\\n",
    "                  + SIGN(DELAY(CLOSE, para_list[1]) - DELAY(CLOSE, para_list[2])))\\\n",
    "         * SUM(VOLUME, para_list[1] + para_list[2])) / SUM(VOLUME, para_list[3]))\n",
    "\n",
    "\n",
    "def Alpha49(para_list):\n",
    "    dividend = SUM(MAX(ABS(HIGH-DELAY(HIGH,para_list[0])),ABS(LOW-DELAY(LOW,para_list[0]))),para_list[1])\n",
    "    divisor =  SUM(~((HIGH+LOW) >= (DELAY(HIGH,para_list[0]) + DELAY(LOW,para_list[0])))\\\n",
    "                  *MAX(ABS(HIGH-DELAY(HIGH,para_list[0])),ABS(LOW-DELAY(LOW,para_list[0]))),para_list[1])\n",
    "\n",
    "    return divisor/dividend\n",
    "\n",
    "\n",
    "def Alpha50(para_list):\n",
    "    subtend = SUM(~((HIGH+LOW) <= (DELAY(HIGH,para_list[0]) + DELAY(LOW,para_list[0])))\\\n",
    "                 *MAX(ABS(HIGH-DELAY(HIGH,para_list[0])),ABS(LOW-DELAY(LOW,para_list[0]))),para_list[1])\\\n",
    "            /(SUM(MAX(ABS(HIGH-DELAY(HIGH,para_list[0])),ABS(LOW-DELAY(LOW,para_list[0]))),para_list[1]))\n",
    "    \n",
    "    minuend = SUM(~((HIGH+LOW) >= (DELAY(HIGH,para_list[0]) + DELAY(LOW,para_list[0])))\\\n",
    "                 *MAX(ABS(HIGH-DELAY(HIGH,para_list[0])),ABS(LOW-DELAY(LOW,para_list[0]))),para_list[1])\\\n",
    "            /(SUM(MAX(ABS(HIGH-DELAY(HIGH,para_list[0])),ABS(LOW-DELAY(LOW,para_list[0]))),para_list[1]))\n",
    "\n",
    "    return subtend - minuend   \n",
    "\n",
    "\n",
    "def Alpha51(para_list):\n",
    "    return SUM(~((HIGH+LOW) <= (DELAY(HIGH,para_list[0]) + DELAY(LOW,para_list[0])))\\\n",
    "              *MAX(ABS(HIGH-DELAY(HIGH,para_list[0])),ABS(LOW-DELAY(LOW,para_list[0]))),para_list[1])\\\n",
    "         /(SUM(MAX(ABS(HIGH-DELAY(HIGH,para_list[0])),ABS(LOW-DELAY(LOW,para_list[0]))),para_list[1]))\n",
    "\n",
    "def Alpha52(para_list):\n",
    "    return SUM(MAX(0, HIGH-DELAY((HIGH+LOW+CLOSE)/3,para_list[0])), para_list[1])\\\n",
    "          /SUM(MAX(0, DELAY((HIGH+LOW+CLOSE)/3,para_list[0]) - LOW),para_list[1])* 100.0\n",
    "\n",
    "\n",
    "def Alpha53(para_list):\n",
    "    return COUNT(CLOSE>DELAY(CLOSE,para_list[0]),para_list[1])/para_list[1]*100.0\n",
    "\n",
    "def Alpha54(para_list):\n",
    "    return (-RANK((STD(ABS(CLOSE - OPEN), para_list[0]) + (CLOSE - OPEN)) + CORR(CLOSE, OPEN, para_list[0])))\n",
    "\n",
    "\n",
    "#part_B1_value中有/2，/4算是decay sum吧。。，我也替换成了两个参数\n",
    "def Alpha55(para_list):\n",
    "    part_C_value = MAX(ABS(HIGH-DELAY(CLOSE,para_list[0])),\\\n",
    "                       ABS(LOW- DELAY(CLOSE,para_list[0])))\n",
    "\n",
    "    part_A_value = (CLOSE+(CLOSE-OPEN)/2.0-DELAY(OPEN,para_list[0]))\n",
    "\n",
    "    part_B1_cond = (ABS(HIGH-DELAY(CLOSE,para_list[0])) > ABS(LOW -DELAY(CLOSE,para_list[0])))\\\n",
    "                  &(ABS(HIGH-DELAY(CLOSE,para_list[0])) > ABS(HIGH-DELAY(LOW,  para_list[0])))\n",
    "\n",
    "    part_B2_cond = (ABS(LOW- DELAY(CLOSE,para_list[0])) > ABS(HIGH-DELAY(LOW,  para_list[0])))\\\n",
    "                  &(ABS(LOW- DELAY(CLOSE,para_list[0])) > ABS(HIGH-DELAY(CLOSE,para_list[0])))\n",
    "    \n",
    "    part_B1_value=  ABS(HIGH-DELAY(CLOSE,para_list[0])) + ABS(LOW -DELAY(CLOSE,para_list[0]))/para_list[1]\\\n",
    "                  + ABS(DELAY(CLOSE,para_list[0])-DELAY(OPEN, para_list[0]))/para_list[2]\n",
    "    \n",
    "    part_B2nvalue= (ABS(HIGH-DELAY(LOW ,para_list[0]))  + ABS(DELAY(CLOSE,para_list[0])-DELAY(OPEN,para_list[0]))/para_list[2])\n",
    "    \n",
    "    part_B_value = (part_B1_cond | (~part_B1_cond) & part_B2_cond) * part_B1_value\\\n",
    "               + ((~part_B1_cond) & (~part_B2_cond)) * part_B2nvalue\n",
    "    \n",
    "    return SUM(part_A_value/part_B_value*part_C_value, para_list[1])\n",
    "   \n",
    "\n",
    "#这个signal是返回一个bool list，与原文对照过了，表达式一致，很迷\n",
    "def Alpha56(paralist):\n",
    "    return RANK((OPEN - TSMIN(OPEN, para_list[0]))) < RANK((RANK(CORR(SUM(((HIGH + LOW)/2.0), para_list[1]), SUM(MEAN(VOLUME,para_list[2]), para_list[3]), para_list[4]))**(para_list[5]/100) ))\n",
    "\n",
    "def Alpha57(para_list):\n",
    "    return SMA((CLOSE-TSMIN(LOW,para_list[0]))/(TSMAX(HIGH,para_list[0])-TSMIN(LOW,para_list[0])),para_list[1],para_list[2])\n",
    "\n",
    "def Alpha58(para_list):\n",
    "    return COUNT(CLOSE>DELAY(CLOSE,para_list[0]),para_list[1])/para_list[1]\n",
    "\n",
    "def Alpha59(para_list):\n",
    "    return SUM((CLOSE!=DELAY(CLOSE,para_list[0]))*CLOSE\\\n",
    "            - ((CLOSE>DELAY(CLOSE,para_list[0]))* MIN(LOW, DELAY(CLOSE,para_list[0]))\\\n",
    "            + ~(CLOSE>DELAY(CLOSE,para_list[0]) * MAX(HIGH,DELAY(CLOSE,para_list[0])))), para_list[1])\n",
    "\n",
    "def Alpha60(para_list):\n",
    "    return SUM(((CLOSE-LOW)-(HIGH-CLOSE))/(HIGH-LOW)*VOLUME,para_list[0])\n",
    "\n",
    "def Alpha61(para_list):\n",
    "    return (-MAX(RANK(DECAYLINEAR(DELTA(VWAP,para_list[0]),para_list[1])),\\\n",
    "                 RANK(DECAYLINEAR(RANK(CORR(LOW,MEAN(VOLUME,para_list[2]), para_list[3])),para_list[4]))))\n",
    "\n",
    "def Alpha62(para_list):\n",
    "    return (-CORR(HIGH, RANK(VOLUME), para_list[0]))\n",
    "\n",
    "\n",
    "def Alpha63(para_list):\n",
    "    return (SMA(MAX(CLOSE-DELAY(CLOSE,para_list[0]),0),para_list[1],para_list[2])\\\n",
    "           /SMA(ABS(CLOSE-DELAY(CLOSE,para_list[0]))  ,para_list[1],para_list[2]))\n",
    "\n",
    "\n",
    "def Alpha64(para_list):\n",
    "    return -MAX(RANK(DECAYLINEAR(CORR(RANK(VWAP), RANK(VOLUME), para_list[0]),para_list[0])),\\\n",
    "                RANK(DECAYLINEAR(MAX(CORR(RANK(CLOSE), RANK(MEAN(VOLUME,para_list[1])), para_list[0]), para_list[2]), para_list[3])))\n",
    "\n",
    "def Alpha65(para_list):\n",
    "    return MEAN(CLOSE,para_list[0])/CLOSE\n",
    "\n",
    "def Alpha66(para_list):\n",
    "    return (CLOSE-MEAN(CLOSE,para_list[0]))/MEAN(CLOSE,para_list[0])\n",
    "\n",
    "def Alpha67(para_list):\n",
    "    return SMA(MAX(CLOSE-DELAY(CLOSE,),0),para_list[1],para_list[2])\\\n",
    "          /SMA(ABS(CLOSE-DELAY(CLOSE,para_list[0])),para_list[1],para_list[2])\n",
    "\n",
    "def Alpha68(para_list):\n",
    "    return SMA(((HIGH+LOW)/2-(DELAY(HIGH,para_list[0])+DELAY(LOW,para_list[0]))/para_list[0])*(HIGH-LOW)/VOLUME,para_list[1],para_list[2])\n",
    "\n",
    "def Alpha69(para_list):\n",
    "    cache= (SUM(DTM,para_list[0])>SUM(DBM,para_list[0])) * (SUM(DTM,para_list[0])- SUM(DBM,para_list[0]))/SUM(DTM,para_list[0])         +(~(SUM(DTM,para_list[0])>SUM(DBM,para_list[0])) & (SUM(DTM,para_list[0])!=SUM(DBM,para_list[0]))                                                         * (SUM(DTM,para_list[0])- SUM(DBM,para_list[0]))/SUM(DBM,para_list[0]))\n",
    "    return cache.fillna(method='ffill').fillna(method='bfill')\n",
    "\n",
    "def Alpha70(para_list):\n",
    "    return STD(AMOUNT,para_list[0])\n",
    "\n",
    "def Alpha71(para_list):\n",
    "    return (CLOSE-MEAN(CLOSE,para_list[0]))/MEAN(CLOSE,para_list[0])\n",
    "\n",
    "def Alpha72(para_list):\n",
    "    return SMA((TSMAX(HIGH,para_list[0])-CLOSE)/(TSMAX(HIGH,para_list[0])-TSMIN(LOW,para_list[0])),para_list[1],para_list[2])\n",
    "\n",
    "def Alpha73(para_list):\n",
    "    return (TSRANK(DECAYLINEAR(DECAYLINEAR(CORR(CLOSE, VOLUME,para_list[0]),para_list[1]),para_list[2]),para_list[3])-RANK(DECAYLINEAR(CORR(VWAP, MEAN(VOLUME,para_list[4]),para_list[5]),para_list[6]))) * -1\n",
    "\n",
    "#para_list[0] is a float between (0,1)\n",
    "def Alpha74(para_list):\n",
    "    return RANK(CORR(SUM(((LOW * para_list[0]/100) + VWAP*(1-para_list[0]/100)), para_list[1]), SUM(MEAN(VOLUME,para_list[2]),para_list[1]), para_list[3])) + RANK(CORR(RANK(VWAP), RANK(VOLUME), para_list[4]))\n",
    "\n",
    "def Alpha75(para_list):\n",
    "    return CLOSE - CLOSE + 1\n",
    "\n",
    "def Alpha76(para_list):\n",
    "    return  STD(ABS((CLOSE/DELAY(CLOSE,para_list[0])-1.0))/VOLUME,para_list[1])/MEAN(ABS((CLOSE/DELAY(CLOSE,para_list[0])-1.0))/VOLUME,para_list[1])\n",
    "\n",
    "def Alpha77(para_list):\n",
    "    return MIN(RANK(DECAYLINEAR(((((HIGH + LOW) / 2) + HIGH) - (VWAP+HIGH)),para_list[0])),RANK(DECAYLINEAR(CORR(((HIGH + LOW) / 2), MEAN(VOLUME,para_list[1]),para_list[2]),para_list[3])))\n",
    "\n",
    "#here para_list[1] is a float\n",
    "def Alpha78(para_list):\n",
    "    return ((HIGH+LOW+CLOSE)/3-MEAN((HIGH+LOW+CLOSE)/3,para_list[0]))/(para_list[1]/100*MEAN(ABS(CLOSE-MEAN((HIGH+LOW+CLOSE)/3,para_list[0])),para_list[0]))\n",
    "\n",
    "def Alpha79(para_list):\n",
    "    return SMA(MAX(CLOSE-DELAY(CLOSE,para_list[0]),0),para_list[1],para_list[2])\\\n",
    "          /SMA(ABS(CLOSE-DELAY(CLOSE,para_list[0]))  ,para_list[1],para_list[2])\n",
    "\n",
    "def Alpha80(para_list):\n",
    "    return (VOLUME-DELAY(VOLUME,para_list[0]))/DELAY(VOLUME,para_list[0])\n",
    "\n",
    "def Alpha81(para_list):\n",
    "    return SMA(VOLUME,para_list[0],para_list[1])\n",
    "\n",
    "def Alpha82(para_list):\n",
    "    return SMA((TSMAX(HIGH,para_list[0])-CLOSE)/(TSMAX(HIGH,para_list[0])-TSMIN(LOW,para_list[0])),para_list[1],para_list[2])\n",
    "\n",
    "def Alpha83(para_list):\n",
    "    return (-RANK(COVIANCE(RANK(HIGH), RANK(VOLUME), para_list[0])))\n",
    "\n",
    "def Alpha84(para_list):\n",
    "    return SUM((CLOSE>DELAY(CLOSE,para_list[0]))*VOLUME+\\\n",
    "             (~(CLOSE>DELAY(CLOSE,para_list[0]))&(CLOSE<DELAY(CLOSE,para_list[0])))*(-VOLUME),para_list[1])\n",
    "\n",
    "def Alpha85(para_list):\n",
    "    return TSRANK((VOLUME / MEAN(VOLUME,para_list[0])),para_list[0])\\\n",
    "         * TSRANK((-1 * DELTA(CLOSE, para_list[1])), para_list[2])\n",
    "\n",
    "#para_list[0] is a float\n",
    "def Alpha86(para_list):\n",
    "    return ( para_list[0]/100 < (((DELAY(CLOSE, para_list[1]) - DELAY(CLOSE, para_list[2])) / para_list[2]) - ((DELAY(CLOSE, para_list[3]) - CLOSE) / para_list[3]))) *(-1.0)\\\n",
    "        + (~(para_list[0]/100 < (((DELAY(CLOSE, para_list[1]) - DELAY(CLOSE, para_list[2])) / para_list[2]) - ((DELAY(CLOSE, para_list[3]) - CLOSE) / para_list[3]))))\\\n",
    "                       * ((((( DELAY(CLOSE, para_list[1]) - DELAY(CLOSE, para_list[2])) / para_list[2]) - ((DELAY(CLOSE, para_list[3]) - CLOSE) / para_list[3])) < 0) * 1.0\\\n",
    "                       + (~((((DELAY(CLOSE, para_list[1]) - DELAY(CLOSE, para_list[2])) / para_list[2]) - ((DELAY(CLOSE, para_list[3]) - CLOSE) / para_list[3])) < 0)) *(-1.0))\n",
    "\n",
    "#LOW*0.9 + LOW*0.1 难道不就是LOW吗？改为HIGH*para_list[4] + LOW*(1-para_list[4])，因此para_list[4] is a float between 0 and 1\n",
    "def Alpha87(para_list):\n",
    "    return (-(RANK(DECAYLINEAR(DELTA(VWAP, para_list[0]), para_list[1]))\\\n",
    "          + TSRANK(DECAYLINEAR((((LOW) - VWAP) / (OPEN - ((HIGH*para_list[4]/100 + LOW*(1-para_list[4]/100)) / 2))), para_list[2]), para_list[3])))\n",
    "\n",
    "def Alpha88(para_list):\n",
    "    return (CLOSE-DELAY(CLOSE,para_list[0]))/DELAY(CLOSE,para_list[0])\n",
    "\n",
    "def Alpha89(para_list):\n",
    "    return (SMA(CLOSE,para_list[0],para_list[3])\\\n",
    "           -SMA(CLOSE,para_list[1],para_list[4])\\\n",
    "           -SMA(SMA(CLOSE,para_list[0],para_list[3])\\\n",
    "           -SMA(CLOSE,para_list[1],para_list[4]),para_list[2],para_list[5]))\n",
    "\n",
    "def Alpha90(para_list):\n",
    "    return (-RANK(CORR(RANK(VWAP), RANK(VOLUME), para_list[0])))\n",
    "\n",
    "def Alpha91(para_list):\n",
    "    return (-(RANK((CLOSE - MAX(CLOSE, para_list[0])))\\\n",
    "             *RANK(CORR((MEAN(VOLUME,para_list[1])), LOW, para_list[0]))))\n",
    "\n",
    "#para_list[0] is a float between 0 and 1\n",
    "def Alpha92(para_list):\n",
    "    return -MAX(RANK(DECAYLINEAR(DELTA(((CLOSE* para_list[0]/100)+ (VWAP*(1-para_list[0]/100))),para_list[1]),para_list[2])),\\\n",
    "              TSRANK(DECAYLINEAR(ABS(CORR((MEAN(VOLUME,para_list[3])), CLOSE, para_list[4])), para_list[5]), para_list[6]))\n",
    "\n",
    "def Alpha93(para_list):\n",
    "    return SUM(~(OPEN>=DELAY(OPEN,para_list[0]))*MAX((OPEN-LOW),(OPEN-DELAY(OPEN,para_list[0]))),para_list[1])\n",
    "\n",
    "def Alpha94(para_list):\n",
    "    return SUM((CLOSE>DELAY(CLOSE,para_list[0])*VOLUME\\\n",
    "           + (~(CLOSE>DELAY(CLOSE,para_list[0])))*(-VOLUME)*(CLOSE<DELAY(CLOSE,para_list[0]))),para_list[1])\n",
    "\n",
    "def Alpha95(para_list):\n",
    "    return STD(AMOUNT,para_list[0])\n",
    "\n",
    "def Alpha96(para_list):\n",
    "    return SMA(SMA((CLOSE-TSMIN(LOW,para_list[0]))/(TSMAX(HIGH,para_list[0])-TSMIN(LOW,para_list[0])),para_list[1],para_list[2]),para_list[3],para_list[4])\n",
    "\n",
    "#跟Alpha95重复\n",
    "def Alpha97(para_list):\n",
    "    return STD(VOLUME,para_list[0])\n",
    "\n",
    "#para_list[2] is a float\n",
    "def Alpha98(para_list):\n",
    "    condition = ((DELTA((SUM(CLOSE, para_list[0]) / para_list[0]), para_list[0]) / DELAY(CLOSE, para_list[0])) <= para_list[2]/100)\n",
    "    return -(condition  * ((CLOSE - TSMIN(CLOSE, para_list[0])))\\\n",
    "          +(~condition) * DELTA(CLOSE, para_list[1]))\n",
    "\n",
    "def Alpha99(para_list):\n",
    "    return (-RANK(COVIANCE(RANK(CLOSE), RANK(VOLUME), para_list[0])))\n",
    "\n",
    "#跟97，95重复\n",
    "def Alpha100(para_list):\n",
    "    return STD(VOLUME,para_list[0])\n",
    "\n",
    "'''just return True & False, para_list[4] is a float between 0 and 1'''\n",
    "def Alpha101(para_list):\n",
    "    return (-(RANK(CORR(CLOSE, SUM(MEAN(VOLUME,para_list[0]), para_list[1]), para_list[2])) < \n",
    "              RANK(CORR(RANK(((HIGH * para_list[4]/100) + (VWAP * (1-para_list[4]/100)))), RANK(VOLUME), para_list[3]))))\n",
    "\n",
    "def Alpha102(para_list):\n",
    "    return SMA(MAX(VOLUME-DELAY(VOLUME,para_list[0]),0),para_list[1],para_list[2])\\\n",
    "          /SMA(ABS(VOLUME-DELAY(VOLUME,para_list[0]))  ,para_list[1],para_list[2])\n",
    "\n",
    "def Alpha103(para_list):\n",
    "    return ((para_list[0]-LOWDAY(LOW,para_list[0]))/para_list[0])\n",
    "\n",
    "def Alpha104(para_list):\n",
    "    return (-(DELTA(CORR(HIGH, VOLUME, para_list[0]), para_list[0]) * RANK(STD(CLOSE, para_list[1]))))\n",
    "\n",
    "def Alpha105(para_list):\n",
    "    return (-1 * CORR(RANK(OPEN), RANK(VOLUME), para_list[0]))\n",
    "\n",
    "def Alpha106(para_list):\n",
    "    return CLOSE-DELAY(CLOSE,para_list[0])\n",
    "\n",
    "def Alpha107(para_list):\n",
    "    return   -RANK(OPEN - DELAY(HIGH,  para_list[0]))\\\n",
    "            * RANK(OPEN - DELAY(CLOSE, para_list[0]))\\\n",
    "            * RANK(OPEN - DELAY(LOW,   para_list[0]))\n",
    "\n",
    "def Alpha108(para_list):\n",
    "    return (-(RANK((HIGH - MIN(HIGH, para_list[0])))**RANK(CORR((VWAP), (MEAN(VOLUME,para_list[1])), para_list[2]))))\n",
    "\n",
    "def Alpha109(para_list):\n",
    "    return SMA(HIGH-LOW,para_list[0],para_list[1])/SMA(SMA(HIGH-LOW,para_list[0],para_list[1]),para_list[0],para_list[1])\n",
    "\n",
    "def Alpha110(para_list):\n",
    "    return SUM(MAX(0,HIGH-DELAY(CLOSE,para_list[0])),para_list[1])\\\n",
    "          /SUM(MAX(0,-LOW+DELAY(CLOSE,para_list[0])),para_list[1])\n",
    "\n",
    "def Alpha111(para_list):\n",
    "    return SMA(VOLUME*((CLOSE-LOW)-(HIGH-CLOSE))/(HIGH-LOW),para_list[0],para_list[2])\\\n",
    "          -SMA(VOLUME*((CLOSE-LOW)-(HIGH-CLOSE))/(HIGH-LOW),para_list[1],para_list[3])\n",
    "\n",
    "def Alpha112(para_list):\n",
    "    return (SUM((CLOSE-DELAY(CLOSE,para_list[0])>0) *    (CLOSE-DELAY(CLOSE,para_list[1])),para_list[2])\\\n",
    "           -SUM((CLOSE-DELAY(CLOSE,para_list[0])<0) * ABS(CLOSE-DELAY(CLOSE,para_list[1])),para_list[2]))\\\n",
    "          /(SUM((CLOSE-DELAY(CLOSE,para_list[0])>0) *    (CLOSE-DELAY(CLOSE,para_list[1])),para_list[2])\\\n",
    "           +SUM((CLOSE-DELAY(CLOSE,para_list[0])<0) * ABS(CLOSE-DELAY(CLOSE,para_list[1])),para_list[2]))\n",
    "\n",
    "def Alpha113(para_list):\n",
    "    return  -(RANK(SUM(DELAY(CLOSE, para_list[0]), para_list[1]) / para_list[1]) * CORR(CLOSE, VOLUME, para_list[2]))\\\n",
    "            * RANK(CORR(SUM( CLOSE, para_list[0]), SUM(CLOSE, para_list[1]), para_list[2]))\n",
    "\n",
    "def Alpha114(para_list):\n",
    "    return ((RANK(DELAY(((HIGH - LOW) / (SUM(CLOSE, para_list[0]) / para_list[0])), para_list[1])) * RANK(RANK(VOLUME)))\n",
    "                     / (((HIGH - LOW) / (SUM(CLOSE, para_list[0]) / para_list[0])) / (VWAP - CLOSE)))\n",
    "\n",
    "#para_list[0] is a float between 0 and 1\n",
    "def Alpha115(para_list):\n",
    "    return RANK(CORR(((HIGH * para_list[0]/100) + (CLOSE * (1-para_list[0]/100))),  MEAN(VOLUME, para_list[1]),para_list[2]))\\\n",
    "         **RANK(CORR(TSRANK(((HIGH + LOW) / 2), para_list[3]), TSRANK(VOLUME, para_list[4]), para_list[5]))\n",
    "\n",
    "def Alpha116(para_list):\n",
    "    return REGBETA(CLOSE,SEQUENCE(para_list[0]),para_list[0])\n",
    "\n",
    "def Alpha117(para_list):\n",
    "    return ((TSRANK(VOLUME, para_list[0]) * (1 - TSRANK(((CLOSE + HIGH) - LOW), para_list[1])))* (1 - TSRANK(RET, para_list[0])))\n",
    "\n",
    "def Alpha118(para_list):\n",
    "    return SUM(HIGH-OPEN,para_list[0])/SUM(OPEN-LOW,para_list[0])\n",
    "\n",
    "def Alpha119(para_list):\n",
    "    return (RANK(DECAYLINEAR(CORR(VWAP, SUM(MEAN(VOLUME,para_list[0]), para_list[1]), para_list[2]),para_list[3]))\\\n",
    "           -RANK(DECAYLINEAR(TSRANK(MIN(CORR(RANK(OPEN), RANK(MEAN(VOLUME,para_list[4])), para_list[5]), para_list[6]), para_list[7]), para_list[8])))\n",
    "\n",
    "def Alpha120(para_list):\n",
    "    return (RANK((VWAP - CLOSE)) / RANK((VWAP + CLOSE)))\n",
    "\n",
    "def Alpha121(para_list):\n",
    "    return -RANK(VWAP - MIN(VWAP, para_list[0]))**TSRANK(CORR(TSRANK(VWAP, para_list[1]), TSRANK(MEAN(VOLUME,para_list[2]), para_list[3]), para_list[4]), para_list[5])\n",
    "\n",
    "def Alpha122(para_list):\n",
    "    return (SMA(SMA(SMA(LOG(CLOSE),para_list[0],para_list[1]),para_list[0],para_list[1]),para_list[0],para_list[1])\\\n",
    "     /DELAY(SMA(SMA(SMA(LOG(CLOSE),para_list[0],para_list[1]),para_list[0],para_list[1]),para_list[0],para_list[1]),para_list[2])) - 1.0\n",
    "\n",
    "'''输出的是bool type'''\n",
    "def Alpha123(para_list):\n",
    "    return (-(RANK(CORR(SUM((HIGH + LOW) /2, para_list[0]), SUM(MEAN(VOLUME,para_list[1]), para_list[2]), para_list[3]))< RANK(CORR(LOW, VOLUME, para_list[4]))))\n",
    "\n",
    "def Alpha124(para_list):\n",
    "    return (CLOSE - VWAP) / DECAYLINEAR(RANK(TSMAX(CLOSE, para_list[0])),para_list[1])\n",
    "\n",
    "def Alpha125(para_list):\n",
    "    return (RANK(DECAYLINEAR(CORR((VWAP), MEAN(VOLUME,para_list[0]),para_list[1]), para_list[2]))\\\n",
    "           /RANK(DECAYLINEAR(DELTA(((CLOSE * 0.5) + (VWAP * 0.5)), para_list[3]), para_list[4])))\n",
    "\n",
    "def Alpha126():\n",
    "    return (CLOSE+HIGH+LOW)/3\n",
    "\n",
    "#原来是平方再开方的，这里我就直接取ABS了\n",
    "def Alpha127(para_list):\n",
    "    return ABS(MEAN(((CLOSE-MAX(CLOSE,para_list[0]))/(MAX(CLOSE,para_list[0]))), para_list[0]))\n",
    "\n",
    "def Alpha128(para_list):\n",
    "    return 100-(100/(1+SUM(((HIGH+LOW+CLOSE)/3>DELAY((HIGH+LOW+CLOSE)/3,para_list[0]))*(HIGH+LOW+CLOSE)/3*VOLUME,para_list[1])/\n",
    "                       SUM(((HIGH+LOW+CLOSE)/3<DELAY((HIGH+LOW+CLOSE)/3,para_list[0]))*(HIGH+LOW+CLOSE)/3*VOLUME,para_list[1])))\n",
    "\n",
    "def Alpha129(para_list):\n",
    "    return SUM((CLOSE-DELAY(CLOSE,para_list[0])<0) * ABS(CLOSE-DELAY(CLOSE,para_list[0])),para_list[1])\n",
    "\n",
    "\n",
    "def Alpha130(para_list):\n",
    "    return (RANK(DECAYLINEAR(CORR(((HIGH + LOW) / 2),MEAN(VOLUME,para_list[0]),para_list[1]),para_list[2]))\\\n",
    "           /RANK(DECAYLINEAR(CORR(RANK(VWAP), RANK(VOLUME), para_list[3]),para_list[4])))\n",
    "\n",
    "def Alpha131(para_list):\n",
    "    return (RANK(DELAY(VWAP, para_list[0]))**TSRANK(CORR(CLOSE,MEAN(VOLUME,para_list[1]), para_list[2]), para_list[2]))\n",
    "\n",
    "def Alpha132(para_list):\n",
    "    return MEAN(AMOUNT,para_list[0])\n",
    "\n",
    "def Alpha133(para_list):\n",
    "    return ((para_list[0]-HIGHDAY(HIGH,para_list[0]))/para_list[0])\\\n",
    "          -((para_list[0]-LOWDAY(LOW  ,para_list[0]))/para_list[0])\n",
    "\n",
    "def Alpha134(para_list):\n",
    "    return (CLOSE-DELAY(CLOSE,para_list[0]))/DELAY(CLOSE,para_list[0])*VOLUME\n",
    "\n",
    "def Alpha135(para_list):\n",
    "    return SMA(DELAY(CLOSE/DELAY(CLOSE,para_list[0]),para_list[1]),para_list[0],para_list[2])\n",
    "\n",
    "def Alpha136(para_list):\n",
    "    return ((-RANK(DELTA(RET, para_list[0]))) * CORR(OPEN, VOLUME, para_list[1]))\n",
    "\n",
    "#这个就是Alpha55把最外面那层sum()去掉,那其实就相当于.rolling.sum(window=1)的情形，此处也算作是重复计算\n",
    "def Alpha55(para_list):\n",
    "    part_C_value = MAX(ABS(HIGH-DELAY(CLOSE,para_list[0])),\\\n",
    "                       ABS(LOW- DELAY(CLOSE,para_list[0])))\n",
    "\n",
    "    part_A_value = (CLOSE+(CLOSE-OPEN)/2-DELAY(OPEN,para_list[0]))\n",
    "\n",
    "    part_B1_cond = (ABS(HIGH-DELAY(CLOSE,para_list[0])) > ABS(LOW -DELAY(CLOSE,para_list[0])))\\\n",
    "                  &(ABS(HIGH-DELAY(CLOSE,para_list[0])) > ABS(HIGH-DELAY(LOW,  para_list[0])))\n",
    "\n",
    "    part_B2_cond = (ABS(LOW- DELAY(CLOSE,para_list[0])) > ABS(HIGH-DELAY(LOW,  para_list[0])))\\\n",
    "                  &(ABS(LOW- DELAY(CLOSE,para_list[0])) > ABS(HIGH-DELAY(CLOSE,para_list[0])))\n",
    "    \n",
    "    part_B1_value=  ABS(HIGH-DELAY(CLOSE,para_list[0]))\\\n",
    "                  + ABS(LOW -DELAY(CLOSE,para_list[0]))/para_list[1]\\\n",
    "                  + ABS(DELAY(CLOSE,para_list[0])\\\n",
    "                       -DELAY(OPEN, para_list[0]))/para_list[2]\n",
    "    '''\n",
    "    part_B2pvalue=  ABS(LOW           -DELAY(CLOSE,1))\\\n",
    "                  + ABS(HIGH          -DELAY(CLOSE,1))/2\\\n",
    "                  + ABS(DELAY(CLOSE,1)-DELAY(OPEN ,1))/4 #same of the previous one\n",
    "    '''\n",
    "    part_B2nvalue= (ABS(HIGH-DELAY(LOW ,para_list[0])) + ABS(DELAY(CLOSE,para_list[0])-DELAY(OPEN,para_list[0]))/para_list[2])\n",
    "    \n",
    "    part_B_value = (part_B1_cond  | (~part_B1_cond) & part_B2_cond) * part_B1_value\\\n",
    "               + ((~part_B1_cond) & (~part_B2_cond))                * part_B2nvalue\n",
    "    \n",
    "    return part_A_value/part_B_value*part_C_value\n",
    "\n",
    "\n",
    "#here para_list[0] is a float between 0 and 1\n",
    "def Alpha138(para_list):\n",
    "    return (-(RANK(DECAYLINEAR(DELTA((((LOW * para_list[0]/100) + (VWAP * (1-para_list[0]/100)))), para_list[1]), para_list[2]))\\\n",
    "           -TSRANK(DECAYLINEAR(TSRANK(CORR(TSRANK(LOW, para_list[3]), TSRANK(MEAN(VOLUME,para_list[4]), para_list[5]),para_list[6]),para_list[7]),para_list[8]),para_list[9])))\n",
    "\n",
    "def Alpha139(para_list):\n",
    "    return (-CORR(OPEN, VOLUME, para_list[0]))\n",
    "\n",
    "def Alpha140(para_list):\n",
    "    return MIN(RANK(DECAYLINEAR(((RANK(OPEN) + RANK(LOW)) - (RANK(HIGH) + RANK(CLOSE))),para_list[0])),\\\n",
    "             TSRANK(DECAYLINEAR(CORR(TSRANK(CLOSE, para_list[1]), TSRANK(MEAN(VOLUME, para_list[2]),para_list[3]),para_list[4]),para_list[5]),para_list[5]))\n",
    "\n",
    "def Alpha141(para_list):\n",
    "    return (-RANK(CORR(RANK(HIGH), RANK(MEAN(VOLUME,para_list[0])), para_list[1])))\n",
    "\n",
    "def Alpha142(para_list):\n",
    "    return (((-RANK(TSRANK(CLOSE, para_list[0]))) * RANK(DELTA(DELTA(CLOSE,para_list[1]), para_list[1]))) * RANK(TSRANK((VOLUME/MEAN(VOLUME,para_list[2])), para_list[3])))\n",
    "\n",
    "#Alpha143,没有定义SELF函数\n",
    "def Alpha143(para_list):\n",
    "    return CLOSE - CLOSE + 1\n",
    "\n",
    "def Alpha144(para_list):\n",
    "    return SUMIF(ABS(CLOSE/DELAY(CLOSE,para_list[0])-1)/AMOUNT,para_list[1],CLOSE<DELAY(CLOSE,para_list[0]))/COUNT(CLOSE<DELAY(CLOSE,para_list[0]),para_list[1])\n",
    "\n",
    "def Alpha145(para_list):\n",
    "    return (MEAN(VOLUME,para_list[0])-MEAN(VOLUME,para_list[1]))/MEAN(VOLUME,para_list[2])\n",
    "\n",
    "#里面有一个square我就不改了- -\n",
    "def Alpha146(para_list):\n",
    "    return MEAN((CLOSE-DELAY(CLOSE,para_list[0]))/DELAY(CLOSE,para_list[0])\\\n",
    "           -SMA((CLOSE-DELAY(CLOSE,para_list[0]))/DELAY(CLOSE,para_list[0]), para_list[1],para_list[4]),para_list[2])\\\n",
    "             * ((CLOSE-DELAY(CLOSE,para_list[0]))/DELAY(CLOSE,para_list[0])\\\n",
    "           -SMA((CLOSE-DELAY(CLOSE,para_list[0]))/DELAY(CLOSE,para_list[0]), para_list[1],para_list[4]))\\\n",
    "           /SMA(((CLOSE-DELAY(CLOSE,para_list[0]))/DELAY(CLOSE,para_list[0])\\\n",
    "               -((CLOSE-DELAY(CLOSE,para_list[0]))/DELAY(CLOSE,para_list[0])\\\n",
    "           -SMA(( CLOSE-DELAY(CLOSE,para_list[0]))/DELAY(CLOSE,para_list[0]),para_list[3],para_list[4])))**2,para_list[1],para_list[4])\n",
    "\n",
    "\n",
    "def Alpha147(para_list):\n",
    "    return  REGBETA(MEAN(CLOSE,para_list[0]), SEQUENCE(para_list[0]), para_list[0])\n",
    "\n",
    "'''这里返回的也是个bool'''\n",
    "def Alpha148(para_list):\n",
    "    return -(RANK(CORR((OPEN), SUM(MEAN(VOLUME,para_list[0]), para_list[1]), para_list[2])) < RANK((OPEN - TSMIN(OPEN, para_list[3]))))\n",
    "\n",
    "#Alpha149, BANCHMARKCLOSE没有定义，所以这个index空着\n",
    "def Alpha149(para_list):\n",
    "    return CLOSE - CLOSE + 1\n",
    "\n",
    "def Alpha150(para_list):\n",
    "    return (CLOSE+HIGH+LOW)/3*VOLUME\n",
    "\n",
    "def Alpha151(para_list):\n",
    "    return  SMA(CLOSE-DELAY(CLOSE,para_list[0]),para_list[0],para_list[1])\n",
    "\n",
    "def Alpha152(para_list):\n",
    "    return SMA(MEAN(DELAY(SMA(DELAY(CLOSE/DELAY(CLOSE,para_list[0]),para_list[1]),para_list[0],para_list[1]),para_list[0]),para_list[2])\\\n",
    "              -MEAN(DELAY(SMA(DELAY(CLOSE/DELAY(CLOSE,para_list[0]),para_list[1]),para_list[0],para_list[1]),para_list[0]),para_list[3]),para_list[0],para_list[1])\n",
    "\n",
    "#这里取的window是成倍数的，我不认为他们是独立的，因此我只用了一个parameter来描述\n",
    "def Alpha153(para_list):\n",
    "    return (MEAN(CLOSE,  para_list[0])\\\n",
    "           +MEAN(CLOSE,2*para_list[0])\\\n",
    "           +MEAN(CLOSE,4*para_list[0])\\\n",
    "           +MEAN(CLOSE,8*para_list[0]))/4\n",
    "\n",
    "#这个返回的也是一个bool\n",
    "def Alpha154(para_list):\n",
    "    return (((VWAP - MIN(VWAP, para_list[0]))) < (CORR(VWAP, MEAN(VOLUME,para_list[1]), para_list[2])))\n",
    "\n",
    "def Alpha155(para_list):\n",
    "    return SMA(VOLUME,para_list[0],para_list[3])\\\n",
    "          -SMA(VOLUME,para_list[1],para_list[4])\\\n",
    "          -SMA(\\\n",
    "           SMA(VOLUME,para_list[0],para_list[3])\\\n",
    "          -SMA(VOLUME,para_list[1],para_list[4]),\\\n",
    "               para_list[2],para_list[5])\n",
    "\n",
    "#para_list[3] is a float between 0 and 1\n",
    "def Alpha156(para_list):\n",
    "    return -MAX(RANK(DECAYLINEAR(DELTA(VWAP, para_list[0]), para_list[1])),\\\n",
    "                RANK(DECAYLINEAR((-(DELTA(((OPEN * para_list[3]/100) + (LOW * (1-para_list[3]/100))),   para_list[2])\\\n",
    "                                         /((OPEN * para_list[3]/100) + (LOW * (1-para_list[3]/100))))), para_list[1])))\n",
    "\n",
    "\n",
    "def Alpha157(para_list):\n",
    "    return (MIN(PROD(RANK(RANK(LOG(SUM(TSMIN(RANK(RANK(-RANK(DELTA((CLOSE - para_list[0]), para_list[1])))), para_list[2]), para_list[3])))), para_list[4]), para_list[5]) + TSRANK(DELAY((-RET), para_list[6]), para_list[7]))\n",
    "\n",
    "def Alpha158(para_list):\n",
    "    return  ((HIGH-SMA(CLOSE,para_list[0],para_list[1]))-(LOW-SMA(CLOSE,para_list[0],para_list[1])))/CLOSE\n",
    "\n",
    "\n",
    "def Alpha159(para_list):\n",
    "    return (CLOSE-SUM(MIN(LOW, DELAY(CLOSE,para_list[3])),para_list[0]))\\\n",
    "                 /SUM(MAX(HIGH,DELAY(CLOSE,para_list[3]))-MIN(LOW,DELAY(CLOSE,para_list[3])),para_list[0])*para_list[1]*para_list[2]\\\n",
    "          +(CLOSE-SUM(MIN(LOW, DELAY(CLOSE,para_list[3])),para_list[1]))\\\n",
    "                 /SUM(MAX(HIGH,DELAY(CLOSE,para_list[3]))-MIN(LOW,DELAY(CLOSE,para_list[3])),para_list[1])*para_list[1]*para_list[2]\\\n",
    "            +(CLOSE-SUM(MIN(LOW, DELAY(CLOSE,para_list[3])),para_list[2]))\\\n",
    "                 /SUM(MAX(HIGH,DELAY(CLOSE,para_list[3]))-MIN(LOW,DELAY(CLOSE,para_list[3])),para_list[2])*para_list[1]*para_list[2]\\\n",
    "                 /(para_list[0]*para_list[1]+para_list[1]*para_list[2]+para_list[2]*para_list[0])\n",
    "\n",
    "def Alpha160(para_list):\n",
    "    return SMA((CLOSE<=DELAY(CLOSE,para_list[0]))*STD(CLOSE,para_list[1]),para_list[1],para_list[2])\n",
    "\n",
    "def Alpha161(para_list):\n",
    "    return MEAN(MAX(MAX((HIGH-LOW),ABS(DELAY(CLOSE,para_list[0])-HIGH)),ABS(DELAY(CLOSE,para_list[0])-LOW)),para_list[1])\n",
    "\n",
    "def Alpha162(para_list):\n",
    "    return (SMA(MAX(CLOSE-DELAY(CLOSE,para_list[0]),0),para_list[1],para_list[2])\\\n",
    "           /SMA(ABS(CLOSE-DELAY(CLOSE,para_list[0]))  ,para_list[1],para_list[2])\\\n",
    "       -MIN(SMA(MAX(CLOSE-DELAY(CLOSE,para_list[0]),0),para_list[1],para_list[2])\\\n",
    "           /SMA(ABS(CLOSE-DELAY(CLOSE,para_list[0]))  ,para_list[1],para_list[2]),para_list[1]))\\\n",
    "              /(MAX(SMA(MAX(CLOSE-DELAY(CLOSE,para_list[0]),0),para_list[1],para_list[2])\n",
    "                   /SMA(ABS(CLOSE-DELAY(CLOSE,para_list[0]))  ,para_list[1],para_list[2]),para_list[1])\\\n",
    "               -MIN(SMA(MAX(CLOSE-DELAY(CLOSE,para_list[0]),0),para_list[1],para_list[2])\\\n",
    "                   /SMA(ABS(CLOSE-DELAY(CLOSE,para_list[0]))  ,para_list[1],para_list[2]),para_list[1]))\n",
    "\n",
    "def Alpha163(para_list):\n",
    "    return RANK(((((-RET) * MEAN(VOLUME,para_list[0])) * VWAP) * (HIGH - CLOSE)))\n",
    "\n",
    "\n",
    "def Alpha164(para_list):\n",
    "    return SMA((((CLOSE>DELAY(CLOSE,para_list[0]))*1/(CLOSE-DELAY(CLOSE,para_list[0]))+ ~(CLOSE>DELAY(CLOSE,para_list[0]))*1)\n",
    "          - MIN(((CLOSE>DELAY(CLOSE,para_list[0]))*1/(CLOSE-DELAY(CLOSE,para_list[0]))+ ~(CLOSE>DELAY(CLOSE,para_list[0]))*1),para_list[1]))/(HIGH-LOW),para_list[2],2)\n",
    "\n",
    "\n",
    "def Alpha165(para_list):\n",
    "    return SUMAC(CLOSE-MEAN(CLOSE,para_list[0]),para_list[0])\\\n",
    "         - SUMAC(CLOSE-MEAN(CLOSE,para_list[0]),para_list[0])/STD(CLOSE,para_list[0])\n",
    "\n",
    "#**1.5保留 不然120**120估计太大了\n",
    "def Alpha166(para_list):\n",
    "    return -para_list[0]*(para_list[0]-1)**1.5*SUM(CLOSE/DELAY(CLOSE,para_list[1])-1-MEAN(CLOSE/DELAY(CLOSE,para_list[1])-1,para_list[0]),para_list[0])/((para_list[0]-1)*(para_list[0]-2)(SUM((CLOSE/DELAY(CLOSE,para_list[1]),para_list[0])**2,para_list[0]))^1.5)\n",
    "\n",
    "def Alpha167(para_list):\n",
    "    return SUM((CLOSE-DELAY(CLOSE,para_list[0])>0)*(CLOSE-DELAY(CLOSE,para_list[0])),para_list[1])\n",
    "\n",
    "def Alpha168(para_list):\n",
    "    return (-VOLUME/MEAN(VOLUME,para_list[0]))\n",
    "\n",
    "def Alpha169(para_list):\n",
    "    return SMA(MEAN(DELAY(SMA(CLOSE-DELAY(CLOSE,para_list[0]),para_list[1],para_list[0]),para_list[5]),para_list[2])\\\n",
    "              -MEAN(DELAY(SMA(CLOSE-DELAY(CLOSE,para_list[0]),para_list[1],para_list[0]),para_list[5]),para_list[3]),para_list[4],para_list[5])\n",
    "\n",
    "def Alpha170(para_list): #rank * rank - rank almost还是rank\n",
    "    return ((RANK((1 / CLOSE)) * VOLUME / MEAN(VOLUME, para_list[0]))* (HIGH * RANK(HIGH - CLOSE)) / (SUM(HIGH, para_list[1]) / para_list[1])) - RANK(VWAP - DELAY(VWAP, para_list[1]))\n",
    "\n",
    "def Alpha171(para_list):\n",
    "    return  -((LOW - CLOSE) * (OPEN**(para_list[0]/100))) / ((CLOSE - HIGH) * (CLOSE**(para_list[0]/100) ))\n",
    "\n",
    "def Alpha172(para_list):\n",
    "    return MEAN(ABS(SUM((LD>0 & LD>HD)*LD,para_list[0])/SUM(TR,para_list[1])\\\n",
    "                   -SUM((HD>0 & HD>LD)*HD,para_list[0])/SUM(TR,para_list[1]))\\\n",
    "                  /(SUM((LD>0 & LD>HD)*LD,para_list[0])/SUM(TR,para_list[1])\\\n",
    "                   +SUM((HD>0 & HD>LD)*HD,para_list[0])/SUM(TR,para_list[1])),para_list[2])\n",
    "\n",
    "#3-2+1或许是某种玄学，没改\n",
    "def Alpha173(para_list):\n",
    "    return 3*SMA(CLOSE,para_list[0],para_list[1])\\\n",
    "          -2*SMA(SMA(CLOSE,para_list[0],para_list[1]),para_list[0],para_list[1])\\\n",
    "            +SMA(SMA(SMA(LOG(CLOSE),para_list[0],para_list[1]),para_list[0],para_list[1]),para_list[0],para_list[1])\n",
    "\n",
    "def Alpha174(para_list):\n",
    "    return SMA((CLOSE>DELAY(CLOSE,para_list[0]))*STD(CLOSE,para_list[1]),para_list[1],para_list[2])\n",
    "\n",
    "def Alpha175(para_list):\n",
    "    return MEAN(MAX(MAX((HIGH-LOW),ABS(DELAY(CLOSE,para_list[0])-HIGH)),ABS(DELAY(CLOSE,para_list[0])-LOW)),para_list[1])\n",
    "\n",
    "def Alpha176(para_list):\n",
    "    return CORR(RANK((CLOSE - TSMIN(LOW, para_list[0])) / (TSMAX(HIGH, para_list[0]) - TSMIN(LOW,para_list[0]))), RANK(VOLUME), para_list[1])\n",
    "\n",
    "def Alpha177(para_list):\n",
    "    return ((para_list[0]-HIGHDAY(HIGH,para_list[0]))/para_list[0])\n",
    "\n",
    "def Alpha178(para_list):\n",
    "    return (CLOSE-DELAY(CLOSE,para_list[0]))/DELAY(CLOSE,para_list[0])*VOLUME\n",
    "\n",
    "def Alpha179(para_list):\n",
    "    return (RANK(CORR(VWAP, VOLUME, para_list[0])) * RANK(CORR(RANK(LOW), RANK(MEAN(VOLUME,para_list[1])), para_list[2])))\n",
    "\n",
    "def Alpha180(para_list):\n",
    "    return  (MEAN(VOLUME,para_list[0]) < VOLUME) * (-TSRANK(ABS(DELTA(CLOSE, para_list[1])), para_list[2])) * SIGN(DELTA(CLOSE, para_list[1]))\\\n",
    "         + ~(MEAN(VOLUME,para_list[0]) < VOLUME) * (-VOLUME)\n",
    "\n",
    "#Alpha181 drop for the BENCHMARKINDEX\n",
    "def Alpha181(para_list):\n",
    "    return CLOSE - CLOSE + 1\n",
    "\n",
    "#Alpha182 drop for the BENCHMARKINDEX\n",
    "def Alpha182(para_list):\n",
    "    return CLOSE - CLOSE + 1\n",
    "\n",
    "def Alpha183(para_list):\n",
    "    return MAX(SUMAC(CLOSE-MEAN(CLOSE,para_list[0]),para_list[0]),para_list[0])\\\n",
    "          -MIN(SUMAC(CLOSE-MEAN(CLOSE,para_list[0]),para_list[0]),para_list[0])/STD(CLOSE,para_list[0])\n",
    "\n",
    "def Alpha184(para_list):\n",
    "    return (RANK(CORR(DELAY((OPEN - CLOSE), para_list[0]), CLOSE, para_list[1])) + RANK((OPEN - CLOSE)))\n",
    "\n",
    "#**2也没动\n",
    "def Alpha185(para_list):\n",
    "    return RANK((-((1 - (OPEN / CLOSE))**2)))\n",
    "\n",
    "def Alpha186(para_list):\n",
    "    return (MEAN(ABS(SUM(((LD>0) & (LD>HD))*LD,para_list[0])/SUM(TR,para_list[0])\\\n",
    "                    -SUM(((HD>0) & (HD>LD))*HD,para_list[0])/SUM(TR,para_list[0]))\\\n",
    "                   /(SUM(((LD>0) & (LD>HD))*LD,para_list[0])/SUM(TR,para_list[0])\\\n",
    "                    +SUM(((HD>0) & (HD>LD))*HD,para_list[0])/SUM(TR,para_list[0])),para_list[1])\\\n",
    "     +DELAY(MEAN(ABS(SUM(((LD>0) & (LD>HD))*LD,para_list[0])/SUM(TR,para_list[0])\\\n",
    "                    -SUM(((HD>0) & (HD>LD))*HD,para_list[0])/SUM(TR,para_list[0]))\\\n",
    "                   /(SUM(((LD>0) & (LD>HD))*LD,para_list[0])/SUM(TR,para_list[0])\\\n",
    "                    +SUM(((HD>0) & (HD>LD))*HD,para_list[0])/SUM(TR,para_list[0])),para_list[1]),para_list[1]))/2\n",
    "\n",
    "def Alpha187(para_list):\n",
    "    return SUM(~(OPEN<=DELAY(OPEN,para_list[0])) * MAX((HIGH-OPEN),(OPEN-DELAY(OPEN,para_list[0]))),para_list[1])\n",
    "\n",
    "def Alpha188(para_list):\n",
    "    return ((HIGH-LOW-SMA(HIGH-LOW,para_list[0],para_list[1]))/SMA(HIGH-LOW,para_list[0],para_list[1]))\n",
    "\n",
    "def Alpha189(para_list):\n",
    "    return MEAN(ABS(CLOSE-MEAN(CLOSE,para_list[0])),para_list[0])\n",
    "\n",
    "\n",
    "def Alpha190(para_list):\n",
    "    return CLOSE - CLOSE + 1\n",
    "\n",
    "\n",
    "def Alpha191(para_list):\n",
    "    return ((CORR(MEAN(VOLUME,para_list[0]), LOW, para_list[1]) + ((HIGH + LOW) / 2)) - CLOSE)"
   ]
  },
  {
   "cell_type": "code",
   "execution_count": 1,
   "metadata": {
    "collapsed": true
   },
   "outputs": [],
   "source": [
    "Alpha_para_num = {}\n",
    "Alpha_para_num['Alpha1'] = 2\n",
    "Alpha_para_num['Alpha2'] = 1\n",
    "Alpha_para_num['Alpha3'] = 2\n",
    "Alpha_para_num['Alpha4'] = 3\n",
    "Alpha_para_num['Alpha5'] = 2\n",
    "Alpha_para_num['Alpha6'] = 2\n",
    "Alpha_para_num['Alpha7'] = 2\n",
    "Alpha_para_num['Alpha8'] = 2\n",
    "Alpha_para_num['Alpha9'] = 3\n",
    "Alpha_para_num['Alpha10'] = 3\n",
    "Alpha_para_num['Alpha11'] = 1\n",
    "Alpha_para_num['Alpha12'] = 1\n",
    "Alpha_para_num['Alpha13'] = 1\n",
    "Alpha_para_num['Alpha14'] = 1\n",
    "Alpha_para_num['Alpha15'] = 1\n",
    "Alpha_para_num['Alpha16'] = 1\n",
    "Alpha_para_num['Alpha17'] = 2\n",
    "Alpha_para_num['Alpha18'] = 1\n",
    "Alpha_para_num['Alpha19'] = 1\n",
    "Alpha_para_num['Alpha20'] = 1\n",
    "Alpha_para_num['Alpha21'] = 1\n",
    "Alpha_para_num['Alpha22'] = 3\n",
    "Alpha_para_num['Alpha23'] = 3\n",
    "Alpha_para_num['Alpha24'] = 2\n",
    "Alpha_para_num['Alpha25'] = 4\n",
    "Alpha_para_num['Alpha26'] = 3\n",
    "Alpha_para_num['Alpha27'] = 3\n",
    "Alpha_para_num['Alpha28'] = 6\n",
    "Alpha_para_num['Alpha29'] = 1\n",
    "Alpha_para_num['Alpha30'] = 0\n",
    "Alpha_para_num['Alpha31'] = 1\n",
    "Alpha_para_num['Alpha32'] = 1\n",
    "Alpha_para_num['Alpha33'] = 4\n",
    "Alpha_para_num['Alpha34'] = 1\n",
    "Alpha_para_num['Alpha35'] = 5\n",
    "Alpha_para_num['Alpha36'] = 2\n",
    "Alpha_para_num['Alpha37'] = 2\n",
    "Alpha_para_num['Alpha38'] = 2\n",
    "Alpha_para_num['Alpha39'] = 7\n",
    "Alpha_para_num['Alpha40'] = 2\n",
    "Alpha_para_num['Alpha41'] = 2\n",
    "Alpha_para_num['Alpha42'] = 1\n",
    "Alpha_para_num['Alpha43'] = 2\n",
    "Alpha_para_num['Alpha44'] = 7\n",
    "Alpha_para_num['Alpha45'] = 4\n",
    "Alpha_para_num['Alpha46'] = 4\n",
    "Alpha_para_num['Alpha47'] = 3\n",
    "Alpha_para_num['Alpha48'] = 4\n",
    "Alpha_para_num['Alpha49'] = 2\n",
    "Alpha_para_num['Alpha50'] = 2\n",
    "Alpha_para_num['Alpha51'] = 2\n",
    "Alpha_para_num['Alpha52'] = 2\n",
    "Alpha_para_num['Alpha53'] = 2\n",
    "Alpha_para_num['Alpha54'] = 1\n",
    "Alpha_para_num['Alpha55'] = 3\n",
    "Alpha_para_num['Alpha56'] = 6\n",
    "Alpha_para_num['Alpha57'] = 3\n",
    "Alpha_para_num['Alpha58'] = 2\n",
    "Alpha_para_num['Alpha59'] = 2\n",
    "Alpha_para_num['Alpha60'] = 1\n",
    "Alpha_para_num['Alpha61'] = 5\n",
    "Alpha_para_num['Alpha62'] = 1\n",
    "Alpha_para_num['Alpha63'] = 3\n",
    "Alpha_para_num['Alpha64'] = 4\n",
    "Alpha_para_num['Alpha65'] = 1\n",
    "Alpha_para_num['Alpha66'] = 1\n",
    "Alpha_para_num['Alpha67'] = 3\n",
    "Alpha_para_num['Alpha68'] = 3\n",
    "Alpha_para_num['Alpha69'] = 1\n",
    "Alpha_para_num['Alpha70'] = 1\n",
    "Alpha_para_num['Alpha71'] = 1\n",
    "Alpha_para_num['Alpha72'] = 3\n",
    "Alpha_para_num['Alpha73'] = 7\n",
    "Alpha_para_num['Alpha74'] = 5\n",
    "Alpha_para_num['Alpha75'] = 0\n",
    "Alpha_para_num['Alpha76'] = 2\n",
    "Alpha_para_num['Alpha77'] = 4\n",
    "Alpha_para_num['Alpha78'] = 2\n",
    "Alpha_para_num['Alpha79'] = 3\n",
    "Alpha_para_num['Alpha80'] = 1\n",
    "Alpha_para_num['Alpha81'] = 2\n",
    "Alpha_para_num['Alpha82'] = 3\n",
    "Alpha_para_num['Alpha83'] = 1\n",
    "Alpha_para_num['Alpha84'] = 2\n",
    "Alpha_para_num['Alpha85'] = 3\n",
    "Alpha_para_num['Alpha86'] = 4\n",
    "Alpha_para_num['Alpha87'] = 5\n",
    "Alpha_para_num['Alpha88'] = 1\n",
    "Alpha_para_num['Alpha89'] = 6\n",
    "Alpha_para_num['Alpha90'] = 1\n",
    "Alpha_para_num['Alpha91'] = 2\n",
    "Alpha_para_num['Alpha92'] = 7\n",
    "Alpha_para_num['Alpha93'] = 2\n",
    "Alpha_para_num['Alpha94'] = 2\n",
    "Alpha_para_num['Alpha95'] = 1\n",
    "Alpha_para_num['Alpha96'] = 5\n",
    "Alpha_para_num['Alpha97'] = 1\n",
    "Alpha_para_num['Alpha98'] = 2\n",
    "Alpha_para_num['Alpha99'] = 1\n",
    "Alpha_para_num['Alpha100'] = 1\n",
    "Alpha_para_num['Alpha101'] = 5\n",
    "Alpha_para_num['Alpha102'] = 3\n",
    "Alpha_para_num['Alpha103'] = 1\n",
    "Alpha_para_num['Alpha104'] = 2\n",
    "Alpha_para_num['Alpha105'] = 1\n",
    "Alpha_para_num['Alpha106'] = 1\n",
    "Alpha_para_num['Alpha107'] = 1\n",
    "Alpha_para_num['Alpha108'] = 3\n",
    "Alpha_para_num['Alpha109'] = 2\n",
    "Alpha_para_num['Alpha110'] = 2\n",
    "Alpha_para_num['Alpha111'] = 4\n",
    "Alpha_para_num['Alpha112'] = 3\n",
    "Alpha_para_num['Alpha113'] = 3\n",
    "Alpha_para_num['Alpha114'] = 2\n",
    "Alpha_para_num['Alpha115'] = 6\n",
    "Alpha_para_num['Alpha116'] = 1\n",
    "Alpha_para_num['Alpha117'] = 2\n",
    "Alpha_para_num['Alpha118'] = 1\n",
    "Alpha_para_num['Alpha119'] = 9\n",
    "Alpha_para_num['Alpha120'] = 6\n",
    "Alpha_para_num['Alpha121'] = 6\n",
    "Alpha_para_num['Alpha122'] = 3\n",
    "Alpha_para_num['Alpha123'] = 5\n",
    "Alpha_para_num['Alpha124'] = 2\n",
    "Alpha_para_num['Alpha125'] = 5\n",
    "Alpha_para_num['Alpha126'] = 0\n",
    "Alpha_para_num['Alpha127'] = 1\n",
    "Alpha_para_num['Alpha128'] = 2\n",
    "Alpha_para_num['Alpha129'] = 2\n",
    "Alpha_para_num['Alpha130'] = 5\n",
    "Alpha_para_num['Alpha131'] = 3\n",
    "Alpha_para_num['Alpha132'] = 1\n",
    "Alpha_para_num['Alpha133'] = 1\n",
    "Alpha_para_num['Alpha134'] = 1\n",
    "Alpha_para_num['Alpha135'] = 3\n",
    "Alpha_para_num['Alpha136'] = 2\n",
    "Alpha_para_num['Alpha137'] = 3\n",
    "Alpha_para_num['Alpha138'] = 10\n",
    "Alpha_para_num['Alpha139'] = 6\n",
    "Alpha_para_num['Alpha140'] = 4\n",
    "Alpha_para_num['Alpha141'] = 2\n",
    "Alpha_para_num['Alpha142'] = 4\n",
    "Alpha_para_num['Alpha143'] = 0\n",
    "Alpha_para_num['Alpha144'] = 2\n",
    "Alpha_para_num['Alpha145'] = 3\n",
    "Alpha_para_num['Alpha146'] = 5\n",
    "Alpha_para_num['Alpha147'] = 1\n",
    "Alpha_para_num['Alpha148'] = 4\n",
    "Alpha_para_num['Alpha149'] = 0\n",
    "Alpha_para_num['Alpha150'] = 0\n",
    "Alpha_para_num['Alpha151'] = 2\n",
    "Alpha_para_num['Alpha152'] = 4\n",
    "Alpha_para_num['Alpha153'] = 1\n",
    "Alpha_para_num['Alpha154'] = 3\n",
    "Alpha_para_num['Alpha155'] = 6\n",
    "Alpha_para_num['Alpha156'] = 4\n",
    "Alpha_para_num['Alpha157'] = 8\n",
    "Alpha_para_num['Alpha158'] = 2\n",
    "Alpha_para_num['Alpha159'] = 4\n",
    "Alpha_para_num['Alpha160'] = 3\n",
    "Alpha_para_num['Alpha161'] = 2\n",
    "Alpha_para_num['Alpha162'] = 3\n",
    "Alpha_para_num['Alpha163'] = 1\n",
    "Alpha_para_num['Alpha164'] = 4\n",
    "Alpha_para_num['Alpha165'] = 1\n",
    "Alpha_para_num['Alpha166'] = 2\n",
    "Alpha_para_num['Alpha167'] = 2\n",
    "Alpha_para_num['Alpha168'] = 6\n",
    "Alpha_para_num['Alpha169'] = 6\n",
    "Alpha_para_num['Alpha170'] = 2\n",
    "Alpha_para_num['Alpha171'] = 1\n",
    "Alpha_para_num['Alpha172'] = 3\n",
    "Alpha_para_num['Alpha173'] = 2\n",
    "Alpha_para_num['Alpha174'] = 3\n",
    "Alpha_para_num['Alpha175'] = 2\n",
    "Alpha_para_num['Alpha176'] = 2\n",
    "Alpha_para_num['Alpha177'] = 1\n",
    "Alpha_para_num['Alpha178'] = 1\n",
    "Alpha_para_num['Alpha179'] = 3\n",
    "Alpha_para_num['Alpha180'] = 3\n",
    "Alpha_para_num['Alpha181'] = 0\n",
    "Alpha_para_num['Alpha182'] = 0\n",
    "Alpha_para_num['Alpha183'] = 1\n",
    "Alpha_para_num['Alpha184'] = 2\n",
    "Alpha_para_num['Alpha185'] = 0\n",
    "Alpha_para_num['Alpha186'] = 2\n",
    "Alpha_para_num['Alpha187'] = 2\n",
    "Alpha_para_num['Alpha188'] = 2\n",
    "Alpha_para_num['Alpha189'] = 1\n",
    "Alpha_para_num['Alpha190'] = 0\n",
    "Alpha_para_num['Alpha191'] = 2"
   ]
  },
  {
   "cell_type": "code",
   "execution_count": 2,
   "metadata": {
    "collapsed": true
   },
   "outputs": [],
   "source": [
    "import pandas as pd\n",
    "pd.Series(Alpha_para_num).to_pickle('Alpha_para_num.pickle')"
   ]
  }
 ],
 "metadata": {
  "kernelspec": {
   "display_name": "Python 3",
   "language": "python",
   "name": "python3"
  },
  "language_info": {
   "codemirror_mode": {
    "name": "ipython",
    "version": 3
   },
   "file_extension": ".py",
   "mimetype": "text/x-python",
   "name": "python",
   "nbconvert_exporter": "python",
   "pygments_lexer": "ipython3",
   "version": "3.6.5"
  }
 },
 "nbformat": 4,
 "nbformat_minor": 2
}
